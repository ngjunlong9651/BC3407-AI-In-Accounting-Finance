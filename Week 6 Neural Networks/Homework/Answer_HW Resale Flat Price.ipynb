{
 "cells": [
  {
   "cell_type": "code",
   "execution_count": 1,
   "id": "5ae63c8f",
   "metadata": {},
   "outputs": [],
   "source": [
    "# Business Case\n",
    "# Assuming you are working in a bank and a customer is requesting for house loan\n",
    "# You need to estimate the amount of loan you could grant to the customer\n",
    "# Hence you need to estimate the value of the house\n",
    "# You are to create model to predict the value of the house using machine learning model\n",
    "# There are 10 attributes and you have finally decided on 'town', 'flat_type','floor_area_sqm','flat_model', 'lease_commence_date'.\n",
    "# Remember to use dummy variables on categorical input => you should have 55 columns include Y\n",
    "# Remember to split train test using default rates\n",
    "# Normalize floor_area_sqm using zscore\n",
    "# All machine learning use default setting\n",
    "# measurement is rmse\n",
    "# random state is 1 (need to use in train test split and model creation)\n",
    "# data visualization is needed. At least use one of pandas, seaborn and matplotlib.\n",
    "\n",
    "# the results should be regression 62455, Decision Tree 43711,Random Forest 40131, GBoost 62325, NN 151107\n",
    "\n",
    "# how to improve the results by change the features selected, data wrangling or parameter setting\n",
    "# Qualitatively, explain the pros and cons about your model\n",
    "# How to overcome the weakness of your model (future study)\n",
    "# the important of your model to the bank\n",
    "\n",
    "# Good luck, Enjoy doing your homework\n",
    "\n"
   ]
  },
  {
   "cell_type": "code",
   "execution_count": 2,
   "id": "2408377d",
   "metadata": {},
   "outputs": [],
   "source": [
    "import pandas as pd"
   ]
  },
  {
   "cell_type": "code",
   "execution_count": 3,
   "id": "3eee40a2",
   "metadata": {},
   "outputs": [],
   "source": [
    "df = pd.read_csv(\"ResaleFlatPrice.csv\")"
   ]
  },
  {
   "cell_type": "code",
   "execution_count": 4,
   "id": "8d74c99a",
   "metadata": {},
   "outputs": [
    {
     "data": {
      "text/plain": [
       "Index(['month', 'town', 'flat_type', 'block', 'street_name', 'storey_range',\n",
       "       'floor_area_sqm', 'flat_model', 'lease_commence_date',\n",
       "       'remaining_lease', 'resale_price'],\n",
       "      dtype='object')"
      ]
     },
     "execution_count": 4,
     "metadata": {},
     "output_type": "execute_result"
    }
   ],
   "source": [
    "df.columns"
   ]
  },
  {
   "cell_type": "code",
   "execution_count": 5,
   "id": "61a80f68",
   "metadata": {},
   "outputs": [
    {
     "data": {
      "text/plain": [
       "month                  False\n",
       "town                   False\n",
       "flat_type              False\n",
       "block                  False\n",
       "street_name            False\n",
       "storey_range           False\n",
       "floor_area_sqm         False\n",
       "flat_model             False\n",
       "lease_commence_date    False\n",
       "remaining_lease        False\n",
       "resale_price           False\n",
       "dtype: bool"
      ]
     },
     "execution_count": 5,
     "metadata": {},
     "output_type": "execute_result"
    }
   ],
   "source": [
    "df.isnull().any()"
   ]
  },
  {
   "cell_type": "code",
   "execution_count": 6,
   "id": "3ddd80d7",
   "metadata": {},
   "outputs": [
    {
     "data": {
      "text/plain": [
       "Model A                   7664\n",
       "Improved                  5560\n",
       "New Generation            3056\n",
       "Premium Apartment         2122\n",
       "Simplified                 930\n",
       "Apartment                  816\n",
       "Maisonette                 662\n",
       "Standard                   647\n",
       "DBSS                       310\n",
       "Model A2                   254\n",
       "Model A-Maisonette          46\n",
       "Adjoined flat               46\n",
       "Type S1                     37\n",
       "Type S2                     16\n",
       "Terrace                     14\n",
       "Multi Generation            14\n",
       "Premium Apartment Loft       4\n",
       "Premium Maisonette           4\n",
       "Improved-Maisonette          2\n",
       "Name: flat_model, dtype: int64"
      ]
     },
     "execution_count": 6,
     "metadata": {},
     "output_type": "execute_result"
    }
   ],
   "source": [
    "df[\"flat_model\"].value_counts()"
   ]
  },
  {
   "cell_type": "code",
   "execution_count": 7,
   "id": "37084d31",
   "metadata": {},
   "outputs": [],
   "source": [
    "df = df.loc[:, ['town', 'flat_type','floor_area_sqm','flat_model', 'lease_commence_date', \"resale_price\"]]"
   ]
  },
  {
   "cell_type": "code",
   "execution_count": 8,
   "id": "950fd3dc",
   "metadata": {},
   "outputs": [
    {
     "data": {
      "text/html": [
       "<div>\n",
       "<style scoped>\n",
       "    .dataframe tbody tr th:only-of-type {\n",
       "        vertical-align: middle;\n",
       "    }\n",
       "\n",
       "    .dataframe tbody tr th {\n",
       "        vertical-align: top;\n",
       "    }\n",
       "\n",
       "    .dataframe thead th {\n",
       "        text-align: right;\n",
       "    }\n",
       "</style>\n",
       "<table border=\"1\" class=\"dataframe\">\n",
       "  <thead>\n",
       "    <tr style=\"text-align: right;\">\n",
       "      <th></th>\n",
       "      <th>town</th>\n",
       "      <th>flat_type</th>\n",
       "      <th>floor_area_sqm</th>\n",
       "      <th>flat_model</th>\n",
       "      <th>lease_commence_date</th>\n",
       "      <th>resale_price</th>\n",
       "    </tr>\n",
       "  </thead>\n",
       "  <tbody>\n",
       "    <tr>\n",
       "      <th>0</th>\n",
       "      <td>ANG MO KIO</td>\n",
       "      <td>3 ROOM</td>\n",
       "      <td>68.0</td>\n",
       "      <td>New Generation</td>\n",
       "      <td>1981</td>\n",
       "      <td>270000.0</td>\n",
       "    </tr>\n",
       "    <tr>\n",
       "      <th>1</th>\n",
       "      <td>ANG MO KIO</td>\n",
       "      <td>3 ROOM</td>\n",
       "      <td>73.0</td>\n",
       "      <td>New Generation</td>\n",
       "      <td>1976</td>\n",
       "      <td>295000.0</td>\n",
       "    </tr>\n",
       "    <tr>\n",
       "      <th>2</th>\n",
       "      <td>ANG MO KIO</td>\n",
       "      <td>3 ROOM</td>\n",
       "      <td>67.0</td>\n",
       "      <td>New Generation</td>\n",
       "      <td>1978</td>\n",
       "      <td>270000.0</td>\n",
       "    </tr>\n",
       "    <tr>\n",
       "      <th>3</th>\n",
       "      <td>ANG MO KIO</td>\n",
       "      <td>3 ROOM</td>\n",
       "      <td>67.0</td>\n",
       "      <td>New Generation</td>\n",
       "      <td>1978</td>\n",
       "      <td>230000.0</td>\n",
       "    </tr>\n",
       "    <tr>\n",
       "      <th>4</th>\n",
       "      <td>ANG MO KIO</td>\n",
       "      <td>3 ROOM</td>\n",
       "      <td>68.0</td>\n",
       "      <td>New Generation</td>\n",
       "      <td>1981</td>\n",
       "      <td>262500.0</td>\n",
       "    </tr>\n",
       "    <tr>\n",
       "      <th>...</th>\n",
       "      <td>...</td>\n",
       "      <td>...</td>\n",
       "      <td>...</td>\n",
       "      <td>...</td>\n",
       "      <td>...</td>\n",
       "      <td>...</td>\n",
       "    </tr>\n",
       "    <tr>\n",
       "      <th>22199</th>\n",
       "      <td>YISHUN</td>\n",
       "      <td>EXECUTIVE</td>\n",
       "      <td>142.0</td>\n",
       "      <td>Apartment</td>\n",
       "      <td>1988</td>\n",
       "      <td>580000.0</td>\n",
       "    </tr>\n",
       "    <tr>\n",
       "      <th>22200</th>\n",
       "      <td>YISHUN</td>\n",
       "      <td>EXECUTIVE</td>\n",
       "      <td>146.0</td>\n",
       "      <td>Maisonette</td>\n",
       "      <td>1988</td>\n",
       "      <td>565000.0</td>\n",
       "    </tr>\n",
       "    <tr>\n",
       "      <th>22201</th>\n",
       "      <td>YISHUN</td>\n",
       "      <td>EXECUTIVE</td>\n",
       "      <td>164.0</td>\n",
       "      <td>Apartment</td>\n",
       "      <td>1992</td>\n",
       "      <td>633000.0</td>\n",
       "    </tr>\n",
       "    <tr>\n",
       "      <th>22202</th>\n",
       "      <td>YISHUN</td>\n",
       "      <td>EXECUTIVE</td>\n",
       "      <td>164.0</td>\n",
       "      <td>Apartment</td>\n",
       "      <td>1992</td>\n",
       "      <td>788888.0</td>\n",
       "    </tr>\n",
       "    <tr>\n",
       "      <th>22203</th>\n",
       "      <td>YISHUN</td>\n",
       "      <td>EXECUTIVE</td>\n",
       "      <td>145.0</td>\n",
       "      <td>Maisonette</td>\n",
       "      <td>1987</td>\n",
       "      <td>618000.0</td>\n",
       "    </tr>\n",
       "  </tbody>\n",
       "</table>\n",
       "<p>22204 rows × 6 columns</p>\n",
       "</div>"
      ],
      "text/plain": [
       "             town  flat_type  floor_area_sqm      flat_model  \\\n",
       "0      ANG MO KIO     3 ROOM            68.0  New Generation   \n",
       "1      ANG MO KIO     3 ROOM            73.0  New Generation   \n",
       "2      ANG MO KIO     3 ROOM            67.0  New Generation   \n",
       "3      ANG MO KIO     3 ROOM            67.0  New Generation   \n",
       "4      ANG MO KIO     3 ROOM            68.0  New Generation   \n",
       "...           ...        ...             ...             ...   \n",
       "22199      YISHUN  EXECUTIVE           142.0       Apartment   \n",
       "22200      YISHUN  EXECUTIVE           146.0      Maisonette   \n",
       "22201      YISHUN  EXECUTIVE           164.0       Apartment   \n",
       "22202      YISHUN  EXECUTIVE           164.0       Apartment   \n",
       "22203      YISHUN  EXECUTIVE           145.0      Maisonette   \n",
       "\n",
       "       lease_commence_date  resale_price  \n",
       "0                     1981      270000.0  \n",
       "1                     1976      295000.0  \n",
       "2                     1978      270000.0  \n",
       "3                     1978      230000.0  \n",
       "4                     1981      262500.0  \n",
       "...                    ...           ...  \n",
       "22199                 1988      580000.0  \n",
       "22200                 1988      565000.0  \n",
       "22201                 1992      633000.0  \n",
       "22202                 1992      788888.0  \n",
       "22203                 1987      618000.0  \n",
       "\n",
       "[22204 rows x 6 columns]"
      ]
     },
     "execution_count": 8,
     "metadata": {},
     "output_type": "execute_result"
    }
   ],
   "source": [
    "df"
   ]
  },
  {
   "cell_type": "code",
   "execution_count": 9,
   "id": "69892d97",
   "metadata": {},
   "outputs": [],
   "source": [
    "from scipy import stats"
   ]
  },
  {
   "cell_type": "code",
   "execution_count": 10,
   "id": "730464ce",
   "metadata": {},
   "outputs": [],
   "source": [
    "## Normalizing the Z Score Value using the Z Score value \n",
    "df[\"floor_area_sqm\"] = stats.zscore(df[\"floor_area_sqm\"])"
   ]
  },
  {
   "cell_type": "code",
   "execution_count": 11,
   "id": "41305acc",
   "metadata": {},
   "outputs": [],
   "source": [
    "## Encoding the town variable:\n",
    "d = pd.get_dummies(df[\"town\"])"
   ]
  },
  {
   "cell_type": "code",
   "execution_count": 12,
   "id": "d1f16262",
   "metadata": {},
   "outputs": [],
   "source": [
    "## Merging the new town variable and removing the non encoded data:\n",
    "df = df.merge(d,left_index=True,right_index=True).drop(columns=\"town\")"
   ]
  },
  {
   "cell_type": "code",
   "execution_count": 13,
   "id": "9fdb5303",
   "metadata": {},
   "outputs": [
    {
     "data": {
      "text/html": [
       "<div>\n",
       "<style scoped>\n",
       "    .dataframe tbody tr th:only-of-type {\n",
       "        vertical-align: middle;\n",
       "    }\n",
       "\n",
       "    .dataframe tbody tr th {\n",
       "        vertical-align: top;\n",
       "    }\n",
       "\n",
       "    .dataframe thead th {\n",
       "        text-align: right;\n",
       "    }\n",
       "</style>\n",
       "<table border=\"1\" class=\"dataframe\">\n",
       "  <thead>\n",
       "    <tr style=\"text-align: right;\">\n",
       "      <th></th>\n",
       "      <th>flat_type</th>\n",
       "      <th>floor_area_sqm</th>\n",
       "      <th>flat_model</th>\n",
       "      <th>lease_commence_date</th>\n",
       "      <th>resale_price</th>\n",
       "      <th>ANG MO KIO</th>\n",
       "      <th>BEDOK</th>\n",
       "      <th>BISHAN</th>\n",
       "      <th>BUKIT BATOK</th>\n",
       "      <th>BUKIT MERAH</th>\n",
       "      <th>...</th>\n",
       "      <th>PASIR RIS</th>\n",
       "      <th>PUNGGOL</th>\n",
       "      <th>QUEENSTOWN</th>\n",
       "      <th>SEMBAWANG</th>\n",
       "      <th>SENGKANG</th>\n",
       "      <th>SERANGOON</th>\n",
       "      <th>TAMPINES</th>\n",
       "      <th>TOA PAYOH</th>\n",
       "      <th>WOODLANDS</th>\n",
       "      <th>YISHUN</th>\n",
       "    </tr>\n",
       "  </thead>\n",
       "  <tbody>\n",
       "    <tr>\n",
       "      <th>0</th>\n",
       "      <td>3 ROOM</td>\n",
       "      <td>-1.193788</td>\n",
       "      <td>New Generation</td>\n",
       "      <td>1981</td>\n",
       "      <td>270000.0</td>\n",
       "      <td>1</td>\n",
       "      <td>0</td>\n",
       "      <td>0</td>\n",
       "      <td>0</td>\n",
       "      <td>0</td>\n",
       "      <td>...</td>\n",
       "      <td>0</td>\n",
       "      <td>0</td>\n",
       "      <td>0</td>\n",
       "      <td>0</td>\n",
       "      <td>0</td>\n",
       "      <td>0</td>\n",
       "      <td>0</td>\n",
       "      <td>0</td>\n",
       "      <td>0</td>\n",
       "      <td>0</td>\n",
       "    </tr>\n",
       "    <tr>\n",
       "      <th>1</th>\n",
       "      <td>3 ROOM</td>\n",
       "      <td>-0.988498</td>\n",
       "      <td>New Generation</td>\n",
       "      <td>1976</td>\n",
       "      <td>295000.0</td>\n",
       "      <td>1</td>\n",
       "      <td>0</td>\n",
       "      <td>0</td>\n",
       "      <td>0</td>\n",
       "      <td>0</td>\n",
       "      <td>...</td>\n",
       "      <td>0</td>\n",
       "      <td>0</td>\n",
       "      <td>0</td>\n",
       "      <td>0</td>\n",
       "      <td>0</td>\n",
       "      <td>0</td>\n",
       "      <td>0</td>\n",
       "      <td>0</td>\n",
       "      <td>0</td>\n",
       "      <td>0</td>\n",
       "    </tr>\n",
       "    <tr>\n",
       "      <th>2</th>\n",
       "      <td>3 ROOM</td>\n",
       "      <td>-1.234846</td>\n",
       "      <td>New Generation</td>\n",
       "      <td>1978</td>\n",
       "      <td>270000.0</td>\n",
       "      <td>1</td>\n",
       "      <td>0</td>\n",
       "      <td>0</td>\n",
       "      <td>0</td>\n",
       "      <td>0</td>\n",
       "      <td>...</td>\n",
       "      <td>0</td>\n",
       "      <td>0</td>\n",
       "      <td>0</td>\n",
       "      <td>0</td>\n",
       "      <td>0</td>\n",
       "      <td>0</td>\n",
       "      <td>0</td>\n",
       "      <td>0</td>\n",
       "      <td>0</td>\n",
       "      <td>0</td>\n",
       "    </tr>\n",
       "    <tr>\n",
       "      <th>3</th>\n",
       "      <td>3 ROOM</td>\n",
       "      <td>-1.234846</td>\n",
       "      <td>New Generation</td>\n",
       "      <td>1978</td>\n",
       "      <td>230000.0</td>\n",
       "      <td>1</td>\n",
       "      <td>0</td>\n",
       "      <td>0</td>\n",
       "      <td>0</td>\n",
       "      <td>0</td>\n",
       "      <td>...</td>\n",
       "      <td>0</td>\n",
       "      <td>0</td>\n",
       "      <td>0</td>\n",
       "      <td>0</td>\n",
       "      <td>0</td>\n",
       "      <td>0</td>\n",
       "      <td>0</td>\n",
       "      <td>0</td>\n",
       "      <td>0</td>\n",
       "      <td>0</td>\n",
       "    </tr>\n",
       "    <tr>\n",
       "      <th>4</th>\n",
       "      <td>3 ROOM</td>\n",
       "      <td>-1.193788</td>\n",
       "      <td>New Generation</td>\n",
       "      <td>1981</td>\n",
       "      <td>262500.0</td>\n",
       "      <td>1</td>\n",
       "      <td>0</td>\n",
       "      <td>0</td>\n",
       "      <td>0</td>\n",
       "      <td>0</td>\n",
       "      <td>...</td>\n",
       "      <td>0</td>\n",
       "      <td>0</td>\n",
       "      <td>0</td>\n",
       "      <td>0</td>\n",
       "      <td>0</td>\n",
       "      <td>0</td>\n",
       "      <td>0</td>\n",
       "      <td>0</td>\n",
       "      <td>0</td>\n",
       "      <td>0</td>\n",
       "    </tr>\n",
       "  </tbody>\n",
       "</table>\n",
       "<p>5 rows × 31 columns</p>\n",
       "</div>"
      ],
      "text/plain": [
       "  flat_type  floor_area_sqm      flat_model  lease_commence_date  \\\n",
       "0    3 ROOM       -1.193788  New Generation                 1981   \n",
       "1    3 ROOM       -0.988498  New Generation                 1976   \n",
       "2    3 ROOM       -1.234846  New Generation                 1978   \n",
       "3    3 ROOM       -1.234846  New Generation                 1978   \n",
       "4    3 ROOM       -1.193788  New Generation                 1981   \n",
       "\n",
       "   resale_price  ANG MO KIO  BEDOK  BISHAN  BUKIT BATOK  BUKIT MERAH  ...  \\\n",
       "0      270000.0           1      0       0            0            0  ...   \n",
       "1      295000.0           1      0       0            0            0  ...   \n",
       "2      270000.0           1      0       0            0            0  ...   \n",
       "3      230000.0           1      0       0            0            0  ...   \n",
       "4      262500.0           1      0       0            0            0  ...   \n",
       "\n",
       "   PASIR RIS  PUNGGOL  QUEENSTOWN  SEMBAWANG  SENGKANG  SERANGOON  TAMPINES  \\\n",
       "0          0        0           0          0         0          0         0   \n",
       "1          0        0           0          0         0          0         0   \n",
       "2          0        0           0          0         0          0         0   \n",
       "3          0        0           0          0         0          0         0   \n",
       "4          0        0           0          0         0          0         0   \n",
       "\n",
       "   TOA PAYOH  WOODLANDS  YISHUN  \n",
       "0          0          0       0  \n",
       "1          0          0       0  \n",
       "2          0          0       0  \n",
       "3          0          0       0  \n",
       "4          0          0       0  \n",
       "\n",
       "[5 rows x 31 columns]"
      ]
     },
     "execution_count": 13,
     "metadata": {},
     "output_type": "execute_result"
    }
   ],
   "source": [
    "df.head()"
   ]
  },
  {
   "cell_type": "code",
   "execution_count": 14,
   "id": "e54dbdf5",
   "metadata": {},
   "outputs": [],
   "source": [
    "## Encoding the flat type\n",
    "d = pd.get_dummies(df[\"flat_type\"])"
   ]
  },
  {
   "cell_type": "code",
   "execution_count": 15,
   "id": "cb9f7522",
   "metadata": {},
   "outputs": [],
   "source": [
    "## Merging the new datafram as previously done for town\n",
    "df = df.merge(d,left_index=True,right_index=True).drop(columns=\"flat_type\")"
   ]
  },
  {
   "cell_type": "code",
   "execution_count": 16,
   "id": "99173878",
   "metadata": {},
   "outputs": [],
   "source": [
    "## Encoding\n",
    "d = pd.get_dummies(df[\"flat_model\"])"
   ]
  },
  {
   "cell_type": "code",
   "execution_count": 17,
   "id": "cc56aa2e",
   "metadata": {},
   "outputs": [],
   "source": [
    "df = df.merge(d,left_index=True,right_index=True).drop(columns=\"flat_model\")"
   ]
  },
  {
   "cell_type": "code",
   "execution_count": 18,
   "id": "2ca65cae",
   "metadata": {},
   "outputs": [
    {
     "data": {
      "text/html": [
       "<div>\n",
       "<style scoped>\n",
       "    .dataframe tbody tr th:only-of-type {\n",
       "        vertical-align: middle;\n",
       "    }\n",
       "\n",
       "    .dataframe tbody tr th {\n",
       "        vertical-align: top;\n",
       "    }\n",
       "\n",
       "    .dataframe thead th {\n",
       "        text-align: right;\n",
       "    }\n",
       "</style>\n",
       "<table border=\"1\" class=\"dataframe\">\n",
       "  <thead>\n",
       "    <tr style=\"text-align: right;\">\n",
       "      <th></th>\n",
       "      <th>floor_area_sqm</th>\n",
       "      <th>lease_commence_date</th>\n",
       "      <th>resale_price</th>\n",
       "      <th>ANG MO KIO</th>\n",
       "      <th>BEDOK</th>\n",
       "      <th>BISHAN</th>\n",
       "      <th>BUKIT BATOK</th>\n",
       "      <th>BUKIT MERAH</th>\n",
       "      <th>BUKIT PANJANG</th>\n",
       "      <th>BUKIT TIMAH</th>\n",
       "      <th>...</th>\n",
       "      <th>Multi Generation</th>\n",
       "      <th>New Generation</th>\n",
       "      <th>Premium Apartment</th>\n",
       "      <th>Premium Apartment Loft</th>\n",
       "      <th>Premium Maisonette</th>\n",
       "      <th>Simplified</th>\n",
       "      <th>Standard</th>\n",
       "      <th>Terrace</th>\n",
       "      <th>Type S1</th>\n",
       "      <th>Type S2</th>\n",
       "    </tr>\n",
       "  </thead>\n",
       "  <tbody>\n",
       "    <tr>\n",
       "      <th>0</th>\n",
       "      <td>-1.193788</td>\n",
       "      <td>1981</td>\n",
       "      <td>270000.0</td>\n",
       "      <td>1</td>\n",
       "      <td>0</td>\n",
       "      <td>0</td>\n",
       "      <td>0</td>\n",
       "      <td>0</td>\n",
       "      <td>0</td>\n",
       "      <td>0</td>\n",
       "      <td>...</td>\n",
       "      <td>0</td>\n",
       "      <td>1</td>\n",
       "      <td>0</td>\n",
       "      <td>0</td>\n",
       "      <td>0</td>\n",
       "      <td>0</td>\n",
       "      <td>0</td>\n",
       "      <td>0</td>\n",
       "      <td>0</td>\n",
       "      <td>0</td>\n",
       "    </tr>\n",
       "    <tr>\n",
       "      <th>1</th>\n",
       "      <td>-0.988498</td>\n",
       "      <td>1976</td>\n",
       "      <td>295000.0</td>\n",
       "      <td>1</td>\n",
       "      <td>0</td>\n",
       "      <td>0</td>\n",
       "      <td>0</td>\n",
       "      <td>0</td>\n",
       "      <td>0</td>\n",
       "      <td>0</td>\n",
       "      <td>...</td>\n",
       "      <td>0</td>\n",
       "      <td>1</td>\n",
       "      <td>0</td>\n",
       "      <td>0</td>\n",
       "      <td>0</td>\n",
       "      <td>0</td>\n",
       "      <td>0</td>\n",
       "      <td>0</td>\n",
       "      <td>0</td>\n",
       "      <td>0</td>\n",
       "    </tr>\n",
       "    <tr>\n",
       "      <th>2</th>\n",
       "      <td>-1.234846</td>\n",
       "      <td>1978</td>\n",
       "      <td>270000.0</td>\n",
       "      <td>1</td>\n",
       "      <td>0</td>\n",
       "      <td>0</td>\n",
       "      <td>0</td>\n",
       "      <td>0</td>\n",
       "      <td>0</td>\n",
       "      <td>0</td>\n",
       "      <td>...</td>\n",
       "      <td>0</td>\n",
       "      <td>1</td>\n",
       "      <td>0</td>\n",
       "      <td>0</td>\n",
       "      <td>0</td>\n",
       "      <td>0</td>\n",
       "      <td>0</td>\n",
       "      <td>0</td>\n",
       "      <td>0</td>\n",
       "      <td>0</td>\n",
       "    </tr>\n",
       "    <tr>\n",
       "      <th>3</th>\n",
       "      <td>-1.234846</td>\n",
       "      <td>1978</td>\n",
       "      <td>230000.0</td>\n",
       "      <td>1</td>\n",
       "      <td>0</td>\n",
       "      <td>0</td>\n",
       "      <td>0</td>\n",
       "      <td>0</td>\n",
       "      <td>0</td>\n",
       "      <td>0</td>\n",
       "      <td>...</td>\n",
       "      <td>0</td>\n",
       "      <td>1</td>\n",
       "      <td>0</td>\n",
       "      <td>0</td>\n",
       "      <td>0</td>\n",
       "      <td>0</td>\n",
       "      <td>0</td>\n",
       "      <td>0</td>\n",
       "      <td>0</td>\n",
       "      <td>0</td>\n",
       "    </tr>\n",
       "    <tr>\n",
       "      <th>4</th>\n",
       "      <td>-1.193788</td>\n",
       "      <td>1981</td>\n",
       "      <td>262500.0</td>\n",
       "      <td>1</td>\n",
       "      <td>0</td>\n",
       "      <td>0</td>\n",
       "      <td>0</td>\n",
       "      <td>0</td>\n",
       "      <td>0</td>\n",
       "      <td>0</td>\n",
       "      <td>...</td>\n",
       "      <td>0</td>\n",
       "      <td>1</td>\n",
       "      <td>0</td>\n",
       "      <td>0</td>\n",
       "      <td>0</td>\n",
       "      <td>0</td>\n",
       "      <td>0</td>\n",
       "      <td>0</td>\n",
       "      <td>0</td>\n",
       "      <td>0</td>\n",
       "    </tr>\n",
       "    <tr>\n",
       "      <th>...</th>\n",
       "      <td>...</td>\n",
       "      <td>...</td>\n",
       "      <td>...</td>\n",
       "      <td>...</td>\n",
       "      <td>...</td>\n",
       "      <td>...</td>\n",
       "      <td>...</td>\n",
       "      <td>...</td>\n",
       "      <td>...</td>\n",
       "      <td>...</td>\n",
       "      <td>...</td>\n",
       "      <td>...</td>\n",
       "      <td>...</td>\n",
       "      <td>...</td>\n",
       "      <td>...</td>\n",
       "      <td>...</td>\n",
       "      <td>...</td>\n",
       "      <td>...</td>\n",
       "      <td>...</td>\n",
       "      <td>...</td>\n",
       "      <td>...</td>\n",
       "    </tr>\n",
       "    <tr>\n",
       "      <th>22199</th>\n",
       "      <td>1.844515</td>\n",
       "      <td>1988</td>\n",
       "      <td>580000.0</td>\n",
       "      <td>0</td>\n",
       "      <td>0</td>\n",
       "      <td>0</td>\n",
       "      <td>0</td>\n",
       "      <td>0</td>\n",
       "      <td>0</td>\n",
       "      <td>0</td>\n",
       "      <td>...</td>\n",
       "      <td>0</td>\n",
       "      <td>0</td>\n",
       "      <td>0</td>\n",
       "      <td>0</td>\n",
       "      <td>0</td>\n",
       "      <td>0</td>\n",
       "      <td>0</td>\n",
       "      <td>0</td>\n",
       "      <td>0</td>\n",
       "      <td>0</td>\n",
       "    </tr>\n",
       "    <tr>\n",
       "      <th>22200</th>\n",
       "      <td>2.008748</td>\n",
       "      <td>1988</td>\n",
       "      <td>565000.0</td>\n",
       "      <td>0</td>\n",
       "      <td>0</td>\n",
       "      <td>0</td>\n",
       "      <td>0</td>\n",
       "      <td>0</td>\n",
       "      <td>0</td>\n",
       "      <td>0</td>\n",
       "      <td>...</td>\n",
       "      <td>0</td>\n",
       "      <td>0</td>\n",
       "      <td>0</td>\n",
       "      <td>0</td>\n",
       "      <td>0</td>\n",
       "      <td>0</td>\n",
       "      <td>0</td>\n",
       "      <td>0</td>\n",
       "      <td>0</td>\n",
       "      <td>0</td>\n",
       "    </tr>\n",
       "    <tr>\n",
       "      <th>22201</th>\n",
       "      <td>2.747795</td>\n",
       "      <td>1992</td>\n",
       "      <td>633000.0</td>\n",
       "      <td>0</td>\n",
       "      <td>0</td>\n",
       "      <td>0</td>\n",
       "      <td>0</td>\n",
       "      <td>0</td>\n",
       "      <td>0</td>\n",
       "      <td>0</td>\n",
       "      <td>...</td>\n",
       "      <td>0</td>\n",
       "      <td>0</td>\n",
       "      <td>0</td>\n",
       "      <td>0</td>\n",
       "      <td>0</td>\n",
       "      <td>0</td>\n",
       "      <td>0</td>\n",
       "      <td>0</td>\n",
       "      <td>0</td>\n",
       "      <td>0</td>\n",
       "    </tr>\n",
       "    <tr>\n",
       "      <th>22202</th>\n",
       "      <td>2.747795</td>\n",
       "      <td>1992</td>\n",
       "      <td>788888.0</td>\n",
       "      <td>0</td>\n",
       "      <td>0</td>\n",
       "      <td>0</td>\n",
       "      <td>0</td>\n",
       "      <td>0</td>\n",
       "      <td>0</td>\n",
       "      <td>0</td>\n",
       "      <td>...</td>\n",
       "      <td>0</td>\n",
       "      <td>0</td>\n",
       "      <td>0</td>\n",
       "      <td>0</td>\n",
       "      <td>0</td>\n",
       "      <td>0</td>\n",
       "      <td>0</td>\n",
       "      <td>0</td>\n",
       "      <td>0</td>\n",
       "      <td>0</td>\n",
       "    </tr>\n",
       "    <tr>\n",
       "      <th>22203</th>\n",
       "      <td>1.967690</td>\n",
       "      <td>1987</td>\n",
       "      <td>618000.0</td>\n",
       "      <td>0</td>\n",
       "      <td>0</td>\n",
       "      <td>0</td>\n",
       "      <td>0</td>\n",
       "      <td>0</td>\n",
       "      <td>0</td>\n",
       "      <td>0</td>\n",
       "      <td>...</td>\n",
       "      <td>0</td>\n",
       "      <td>0</td>\n",
       "      <td>0</td>\n",
       "      <td>0</td>\n",
       "      <td>0</td>\n",
       "      <td>0</td>\n",
       "      <td>0</td>\n",
       "      <td>0</td>\n",
       "      <td>0</td>\n",
       "      <td>0</td>\n",
       "    </tr>\n",
       "  </tbody>\n",
       "</table>\n",
       "<p>22204 rows × 55 columns</p>\n",
       "</div>"
      ],
      "text/plain": [
       "       floor_area_sqm  lease_commence_date  resale_price  ANG MO KIO  BEDOK  \\\n",
       "0           -1.193788                 1981      270000.0           1      0   \n",
       "1           -0.988498                 1976      295000.0           1      0   \n",
       "2           -1.234846                 1978      270000.0           1      0   \n",
       "3           -1.234846                 1978      230000.0           1      0   \n",
       "4           -1.193788                 1981      262500.0           1      0   \n",
       "...               ...                  ...           ...         ...    ...   \n",
       "22199        1.844515                 1988      580000.0           0      0   \n",
       "22200        2.008748                 1988      565000.0           0      0   \n",
       "22201        2.747795                 1992      633000.0           0      0   \n",
       "22202        2.747795                 1992      788888.0           0      0   \n",
       "22203        1.967690                 1987      618000.0           0      0   \n",
       "\n",
       "       BISHAN  BUKIT BATOK  BUKIT MERAH  BUKIT PANJANG  BUKIT TIMAH  ...  \\\n",
       "0           0            0            0              0            0  ...   \n",
       "1           0            0            0              0            0  ...   \n",
       "2           0            0            0              0            0  ...   \n",
       "3           0            0            0              0            0  ...   \n",
       "4           0            0            0              0            0  ...   \n",
       "...       ...          ...          ...            ...          ...  ...   \n",
       "22199       0            0            0              0            0  ...   \n",
       "22200       0            0            0              0            0  ...   \n",
       "22201       0            0            0              0            0  ...   \n",
       "22202       0            0            0              0            0  ...   \n",
       "22203       0            0            0              0            0  ...   \n",
       "\n",
       "       Multi Generation  New Generation  Premium Apartment  \\\n",
       "0                     0               1                  0   \n",
       "1                     0               1                  0   \n",
       "2                     0               1                  0   \n",
       "3                     0               1                  0   \n",
       "4                     0               1                  0   \n",
       "...                 ...             ...                ...   \n",
       "22199                 0               0                  0   \n",
       "22200                 0               0                  0   \n",
       "22201                 0               0                  0   \n",
       "22202                 0               0                  0   \n",
       "22203                 0               0                  0   \n",
       "\n",
       "       Premium Apartment Loft  Premium Maisonette  Simplified  Standard  \\\n",
       "0                           0                   0           0         0   \n",
       "1                           0                   0           0         0   \n",
       "2                           0                   0           0         0   \n",
       "3                           0                   0           0         0   \n",
       "4                           0                   0           0         0   \n",
       "...                       ...                 ...         ...       ...   \n",
       "22199                       0                   0           0         0   \n",
       "22200                       0                   0           0         0   \n",
       "22201                       0                   0           0         0   \n",
       "22202                       0                   0           0         0   \n",
       "22203                       0                   0           0         0   \n",
       "\n",
       "       Terrace  Type S1  Type S2  \n",
       "0            0        0        0  \n",
       "1            0        0        0  \n",
       "2            0        0        0  \n",
       "3            0        0        0  \n",
       "4            0        0        0  \n",
       "...        ...      ...      ...  \n",
       "22199        0        0        0  \n",
       "22200        0        0        0  \n",
       "22201        0        0        0  \n",
       "22202        0        0        0  \n",
       "22203        0        0        0  \n",
       "\n",
       "[22204 rows x 55 columns]"
      ]
     },
     "execution_count": 18,
     "metadata": {},
     "output_type": "execute_result"
    }
   ],
   "source": [
    "df"
   ]
  },
  {
   "cell_type": "code",
   "execution_count": 19,
   "id": "1489753f",
   "metadata": {},
   "outputs": [],
   "source": [
    "X = df.drop(columns=\"resale_price\")"
   ]
  },
  {
   "cell_type": "code",
   "execution_count": 20,
   "id": "c6528e2d",
   "metadata": {},
   "outputs": [],
   "source": [
    "Y = df[\"resale_price\"]"
   ]
  },
  {
   "cell_type": "code",
   "execution_count": 21,
   "id": "ab3ef044",
   "metadata": {},
   "outputs": [],
   "source": [
    "from sklearn.model_selection import train_test_split"
   ]
  },
  {
   "cell_type": "code",
   "execution_count": 22,
   "id": "237dfbe1",
   "metadata": {},
   "outputs": [],
   "source": [
    "X_train,X_test,Y_train,Y_test = train_test_split(X,Y,random_state=1)"
   ]
  },
  {
   "cell_type": "code",
   "execution_count": 23,
   "id": "b643161e",
   "metadata": {},
   "outputs": [],
   "source": [
    "from sklearn import linear_model"
   ]
  },
  {
   "cell_type": "code",
   "execution_count": 24,
   "id": "53cc8e7d",
   "metadata": {},
   "outputs": [],
   "source": [
    "from sklearn.metrics import mean_squared_error"
   ]
  },
  {
   "cell_type": "code",
   "execution_count": 25,
   "id": "3d75e2c1",
   "metadata": {},
   "outputs": [],
   "source": [
    "model = linear_model.LinearRegression()"
   ]
  },
  {
   "cell_type": "code",
   "execution_count": 26,
   "id": "49a5993e",
   "metadata": {},
   "outputs": [
    {
     "name": "stdout",
     "output_type": "stream",
     "text": [
      "rmse is  62455.43131423422\n"
     ]
    }
   ],
   "source": [
    "model.fit(X_train,Y_train)\n",
    "pred = model.predict(X_test)\n",
    "print(\"rmse is \", mean_squared_error(Y_test,pred)**0.5)"
   ]
  },
  {
   "cell_type": "code",
   "execution_count": 27,
   "id": "b003ccd0",
   "metadata": {},
   "outputs": [],
   "source": [
    "from sklearn import tree"
   ]
  },
  {
   "cell_type": "code",
   "execution_count": 30,
   "id": "c923e23d",
   "metadata": {},
   "outputs": [],
   "source": [
    "## CART model:\n",
    "model = tree.DecisionTreeRegressor(random_state=1)"
   ]
  },
  {
   "cell_type": "code",
   "execution_count": 31,
   "id": "84406e8d",
   "metadata": {},
   "outputs": [
    {
     "name": "stdout",
     "output_type": "stream",
     "text": [
      "rmse is  43711.16010257397\n"
     ]
    }
   ],
   "source": [
    "model.fit(X_train,Y_train)\n",
    "pred = model.predict(X_test)\n",
    "print(\"rmse is \", mean_squared_error(Y_test,pred)**0.5)"
   ]
  },
  {
   "cell_type": "code",
   "execution_count": 32,
   "id": "32f28183",
   "metadata": {},
   "outputs": [],
   "source": [
    "from sklearn import ensemble"
   ]
  },
  {
   "cell_type": "code",
   "execution_count": 34,
   "id": "01256437",
   "metadata": {},
   "outputs": [],
   "source": [
    "## Random Forest Model:\n",
    "model = ensemble.RandomForestRegressor(random_state=1)"
   ]
  },
  {
   "cell_type": "code",
   "execution_count": 35,
   "id": "636088cd",
   "metadata": {},
   "outputs": [
    {
     "name": "stdout",
     "output_type": "stream",
     "text": [
      "rmse is  40131.48387287037\n"
     ]
    }
   ],
   "source": [
    "model.fit(X_train,Y_train)\n",
    "pred = model.predict(X_test)\n",
    "print(\"rmse is \", mean_squared_error(Y_test,pred)**0.5)"
   ]
  },
  {
   "cell_type": "code",
   "execution_count": 36,
   "id": "e00f9bad",
   "metadata": {},
   "outputs": [],
   "source": [
    "## XG Boost Model:\n",
    "model = ensemble.GradientBoostingRegressor(random_state=1)"
   ]
  },
  {
   "cell_type": "code",
   "execution_count": 37,
   "id": "ad9a1ae1",
   "metadata": {},
   "outputs": [
    {
     "name": "stdout",
     "output_type": "stream",
     "text": [
      "rmse is  62325.73754141881\n"
     ]
    }
   ],
   "source": [
    "model.fit(X_train,Y_train)\n",
    "pred = model.predict(X_test)\n",
    "print(\"rmse is \", mean_squared_error(Y_test,pred)**0.5)"
   ]
  },
  {
   "cell_type": "code",
   "execution_count": 38,
   "id": "b60dd73a",
   "metadata": {},
   "outputs": [],
   "source": [
    "from sklearn import neural_network"
   ]
  },
  {
   "cell_type": "code",
   "execution_count": 39,
   "id": "4921ea28",
   "metadata": {},
   "outputs": [],
   "source": [
    "model = neural_network.MLPRegressor(random_state=1)"
   ]
  },
  {
   "cell_type": "code",
   "execution_count": 40,
   "id": "e3f48236",
   "metadata": {},
   "outputs": [
    {
     "name": "stdout",
     "output_type": "stream",
     "text": [
      "rmse is  151107.6835284498\n"
     ]
    },
    {
     "name": "stderr",
     "output_type": "stream",
     "text": [
      "/Library/Frameworks/Python.framework/Versions/3.10/lib/python3.10/site-packages/sklearn/neural_network/_multilayer_perceptron.py:702: ConvergenceWarning: Stochastic Optimizer: Maximum iterations (200) reached and the optimization hasn't converged yet.\n",
      "  warnings.warn(\n"
     ]
    }
   ],
   "source": [
    "## Neural Network Model:\n",
    "model.fit(X_train,Y_train)\n",
    "pred = model.predict(X_test)\n",
    "print(\"rmse is \", mean_squared_error(Y_test,pred)**0.5)"
   ]
  },
  {
   "cell_type": "code",
   "execution_count": 41,
   "id": "82c47c83",
   "metadata": {},
   "outputs": [
    {
     "ename": "ImportError",
     "evalue": "Traceback (most recent call last):\n  File \"/Library/Frameworks/Python.framework/Versions/3.10/lib/python3.10/site-packages/tensorflow/python/pywrap_tensorflow.py\", line 58, in <module>\n    from tensorflow.python.pywrap_tensorflow_internal import *\n  File \"/Library/Frameworks/Python.framework/Versions/3.10/lib/python3.10/site-packages/tensorflow/python/pywrap_tensorflow_internal.py\", line 28, in <module>\n    _pywrap_tensorflow_internal = swig_import_helper()\n  File \"/Library/Frameworks/Python.framework/Versions/3.10/lib/python3.10/site-packages/tensorflow/python/pywrap_tensorflow_internal.py\", line 24, in swig_import_helper\n    _mod = imp.load_module('_pywrap_tensorflow_internal', fp, pathname, description)\n  File \"/Library/Frameworks/Python.framework/Versions/3.10/lib/python3.10/imp.py\", line 243, in load_module\n    return load_dynamic(name, filename, file)\n  File \"/Library/Frameworks/Python.framework/Versions/3.10/lib/python3.10/imp.py\", line 343, in load_dynamic\n    return _load(spec)\nImportError: dlopen(/Library/Frameworks/Python.framework/Versions/3.10/lib/python3.10/site-packages/tensorflow/python/_pywrap_tensorflow_internal.so, 0x0006): tried: '/Library/Frameworks/Python.framework/Versions/3.10/lib/python3.10/site-packages/tensorflow/python/_pywrap_tensorflow_internal.so' (mach-o file, but is an incompatible architecture (have 'x86_64', need 'arm64')), '/System/Volumes/Preboot/Cryptexes/OS/Library/Frameworks/Python.framework/Versions/3.10/lib/python3.10/site-packages/tensorflow/python/_pywrap_tensorflow_internal.so' (no such file), '/Library/Frameworks/Python.framework/Versions/3.10/lib/python3.10/site-packages/tensorflow/python/_pywrap_tensorflow_internal.so' (mach-o file, but is an incompatible architecture (have 'x86_64', need 'arm64'))\n\n\nFailed to load the native TensorFlow runtime.\n\nSee https://www.tensorflow.org/install/install_sources#common_installation_problems\n\nfor some common reasons and solutions.  Include the entire stack trace\nabove this error message when asking for help.",
     "output_type": "error",
     "traceback": [
      "\u001b[0;31m---------------------------------------------------------------------------\u001b[0m",
      "\u001b[0;31mImportError\u001b[0m                               Traceback (most recent call last)",
      "File \u001b[0;32m/Library/Frameworks/Python.framework/Versions/3.10/lib/python3.10/site-packages/tensorflow/python/pywrap_tensorflow.py:58\u001b[0m\n\u001b[1;32m     56\u001b[0m   sys\u001b[39m.\u001b[39msetdlopenflags(_default_dlopen_flags \u001b[39m|\u001b[39m ctypes\u001b[39m.\u001b[39mRTLD_LOCAL)\n\u001b[0;32m---> 58\u001b[0m \u001b[39mfrom\u001b[39;00m \u001b[39mtensorflow\u001b[39;00m\u001b[39m.\u001b[39;00m\u001b[39mpython\u001b[39;00m\u001b[39m.\u001b[39;00m\u001b[39mpywrap_tensorflow_internal\u001b[39;00m \u001b[39mimport\u001b[39;00m \u001b[39m*\u001b[39m\n\u001b[1;32m     59\u001b[0m \u001b[39mfrom\u001b[39;00m \u001b[39mtensorflow\u001b[39;00m\u001b[39m.\u001b[39;00m\u001b[39mpython\u001b[39;00m\u001b[39m.\u001b[39;00m\u001b[39mpywrap_tensorflow_internal\u001b[39;00m \u001b[39mimport\u001b[39;00m __version__\n",
      "File \u001b[0;32m/Library/Frameworks/Python.framework/Versions/3.10/lib/python3.10/site-packages/tensorflow/python/pywrap_tensorflow_internal.py:28\u001b[0m\n\u001b[1;32m     27\u001b[0m         \u001b[39mreturn\u001b[39;00m _mod\n\u001b[0;32m---> 28\u001b[0m _pywrap_tensorflow_internal \u001b[39m=\u001b[39m swig_import_helper()\n\u001b[1;32m     29\u001b[0m \u001b[39mdel\u001b[39;00m swig_import_helper\n",
      "File \u001b[0;32m/Library/Frameworks/Python.framework/Versions/3.10/lib/python3.10/site-packages/tensorflow/python/pywrap_tensorflow_internal.py:24\u001b[0m, in \u001b[0;36mswig_import_helper\u001b[0;34m()\u001b[0m\n\u001b[1;32m     23\u001b[0m \u001b[39mtry\u001b[39;00m:\n\u001b[0;32m---> 24\u001b[0m     _mod \u001b[39m=\u001b[39m imp\u001b[39m.\u001b[39;49mload_module(\u001b[39m'\u001b[39;49m\u001b[39m_pywrap_tensorflow_internal\u001b[39;49m\u001b[39m'\u001b[39;49m, fp, pathname, description)\n\u001b[1;32m     25\u001b[0m \u001b[39mfinally\u001b[39;00m:\n",
      "File \u001b[0;32m/Library/Frameworks/Python.framework/Versions/3.10/lib/python3.10/imp.py:243\u001b[0m, in \u001b[0;36mload_module\u001b[0;34m(name, file, filename, details)\u001b[0m\n\u001b[1;32m    242\u001b[0m     \u001b[39melse\u001b[39;00m:\n\u001b[0;32m--> 243\u001b[0m         \u001b[39mreturn\u001b[39;00m load_dynamic(name, filename, file)\n\u001b[1;32m    244\u001b[0m \u001b[39melif\u001b[39;00m type_ \u001b[39m==\u001b[39m PKG_DIRECTORY:\n",
      "File \u001b[0;32m/Library/Frameworks/Python.framework/Versions/3.10/lib/python3.10/imp.py:343\u001b[0m, in \u001b[0;36mload_dynamic\u001b[0;34m(name, path, file)\u001b[0m\n\u001b[1;32m    341\u001b[0m spec \u001b[39m=\u001b[39m importlib\u001b[39m.\u001b[39mmachinery\u001b[39m.\u001b[39mModuleSpec(\n\u001b[1;32m    342\u001b[0m     name\u001b[39m=\u001b[39mname, loader\u001b[39m=\u001b[39mloader, origin\u001b[39m=\u001b[39mpath)\n\u001b[0;32m--> 343\u001b[0m \u001b[39mreturn\u001b[39;00m _load(spec)\n",
      "\u001b[0;31mImportError\u001b[0m: dlopen(/Library/Frameworks/Python.framework/Versions/3.10/lib/python3.10/site-packages/tensorflow/python/_pywrap_tensorflow_internal.so, 0x0006): tried: '/Library/Frameworks/Python.framework/Versions/3.10/lib/python3.10/site-packages/tensorflow/python/_pywrap_tensorflow_internal.so' (mach-o file, but is an incompatible architecture (have 'x86_64', need 'arm64')), '/System/Volumes/Preboot/Cryptexes/OS/Library/Frameworks/Python.framework/Versions/3.10/lib/python3.10/site-packages/tensorflow/python/_pywrap_tensorflow_internal.so' (no such file), '/Library/Frameworks/Python.framework/Versions/3.10/lib/python3.10/site-packages/tensorflow/python/_pywrap_tensorflow_internal.so' (mach-o file, but is an incompatible architecture (have 'x86_64', need 'arm64'))",
      "\nDuring handling of the above exception, another exception occurred:\n",
      "\u001b[0;31mImportError\u001b[0m                               Traceback (most recent call last)",
      "Cell \u001b[0;32mIn [41], line 1\u001b[0m\n\u001b[0;32m----> 1\u001b[0m \u001b[39mfrom\u001b[39;00m \u001b[39mkeras\u001b[39;00m\u001b[39m.\u001b[39;00m\u001b[39mmodels\u001b[39;00m \u001b[39mimport\u001b[39;00m Sequential\n",
      "File \u001b[0;32m/Library/Frameworks/Python.framework/Versions/3.10/lib/python3.10/site-packages/keras/__init__.py:21\u001b[0m\n\u001b[1;32m     15\u001b[0m \u001b[39m\"\"\"Implementation of the Keras API, the high-level API of TensorFlow.\u001b[39;00m\n\u001b[1;32m     16\u001b[0m \n\u001b[1;32m     17\u001b[0m \u001b[39mDetailed documentation and user guides are available at\u001b[39;00m\n\u001b[1;32m     18\u001b[0m \u001b[39m[keras.io](https://keras.io).\u001b[39;00m\n\u001b[1;32m     19\u001b[0m \u001b[39m\"\"\"\u001b[39;00m\n\u001b[1;32m     20\u001b[0m \u001b[39mfrom\u001b[39;00m \u001b[39mkeras\u001b[39;00m \u001b[39mimport\u001b[39;00m distribute\n\u001b[0;32m---> 21\u001b[0m \u001b[39mfrom\u001b[39;00m \u001b[39mkeras\u001b[39;00m \u001b[39mimport\u001b[39;00m models\n\u001b[1;32m     22\u001b[0m \u001b[39mfrom\u001b[39;00m \u001b[39mkeras\u001b[39;00m\u001b[39m.\u001b[39;00m\u001b[39mengine\u001b[39;00m\u001b[39m.\u001b[39;00m\u001b[39minput_layer\u001b[39;00m \u001b[39mimport\u001b[39;00m Input\n\u001b[1;32m     23\u001b[0m \u001b[39mfrom\u001b[39;00m \u001b[39mkeras\u001b[39;00m\u001b[39m.\u001b[39;00m\u001b[39mengine\u001b[39;00m\u001b[39m.\u001b[39;00m\u001b[39msequential\u001b[39;00m \u001b[39mimport\u001b[39;00m Sequential\n",
      "File \u001b[0;32m/Library/Frameworks/Python.framework/Versions/3.10/lib/python3.10/site-packages/keras/models/__init__.py:18\u001b[0m\n\u001b[1;32m      1\u001b[0m \u001b[39m# Copyright 2022 The TensorFlow Authors. All Rights Reserved.\u001b[39;00m\n\u001b[1;32m      2\u001b[0m \u001b[39m#\u001b[39;00m\n\u001b[1;32m      3\u001b[0m \u001b[39m# Licensed under the Apache License, Version 2.0 (the \"License\");\u001b[39;00m\n\u001b[0;32m   (...)\u001b[0m\n\u001b[1;32m     13\u001b[0m \u001b[39m# limitations under the License.\u001b[39;00m\n\u001b[1;32m     14\u001b[0m \u001b[39m# ==============================================================================\u001b[39;00m\n\u001b[1;32m     15\u001b[0m \u001b[39m\"\"\"Keras models API.\"\"\"\u001b[39;00m\n\u001b[0;32m---> 18\u001b[0m \u001b[39mfrom\u001b[39;00m \u001b[39mkeras\u001b[39;00m\u001b[39m.\u001b[39;00m\u001b[39mengine\u001b[39;00m\u001b[39m.\u001b[39;00m\u001b[39mfunctional\u001b[39;00m \u001b[39mimport\u001b[39;00m Functional\n\u001b[1;32m     19\u001b[0m \u001b[39mfrom\u001b[39;00m \u001b[39mkeras\u001b[39;00m\u001b[39m.\u001b[39;00m\u001b[39mengine\u001b[39;00m\u001b[39m.\u001b[39;00m\u001b[39msequential\u001b[39;00m \u001b[39mimport\u001b[39;00m Sequential\n\u001b[1;32m     20\u001b[0m \u001b[39mfrom\u001b[39;00m \u001b[39mkeras\u001b[39;00m\u001b[39m.\u001b[39;00m\u001b[39mengine\u001b[39;00m\u001b[39m.\u001b[39;00m\u001b[39mtraining\u001b[39;00m \u001b[39mimport\u001b[39;00m Model\n",
      "File \u001b[0;32m/Library/Frameworks/Python.framework/Versions/3.10/lib/python3.10/site-packages/keras/engine/functional.py:24\u001b[0m\n\u001b[1;32m     21\u001b[0m \u001b[39mimport\u001b[39;00m \u001b[39mitertools\u001b[39;00m\n\u001b[1;32m     22\u001b[0m \u001b[39mimport\u001b[39;00m \u001b[39mwarnings\u001b[39;00m\n\u001b[0;32m---> 24\u001b[0m \u001b[39mimport\u001b[39;00m \u001b[39mtensorflow\u001b[39;00m\u001b[39m.\u001b[39;00m\u001b[39mcompat\u001b[39;00m\u001b[39m.\u001b[39;00m\u001b[39mv2\u001b[39;00m \u001b[39mas\u001b[39;00m \u001b[39mtf\u001b[39;00m\n\u001b[1;32m     26\u001b[0m \u001b[39mfrom\u001b[39;00m \u001b[39mkeras\u001b[39;00m \u001b[39mimport\u001b[39;00m backend\n\u001b[1;32m     27\u001b[0m \u001b[39mfrom\u001b[39;00m \u001b[39mkeras\u001b[39;00m\u001b[39m.\u001b[39;00m\u001b[39mdtensor\u001b[39;00m \u001b[39mimport\u001b[39;00m layout_map \u001b[39mas\u001b[39;00m layout_map_lib\n",
      "File \u001b[0;32m/Library/Frameworks/Python.framework/Versions/3.10/lib/python3.10/site-packages/tensorflow/__init__.py:24\u001b[0m\n\u001b[1;32m     21\u001b[0m \u001b[39mfrom\u001b[39;00m \u001b[39m__future__\u001b[39;00m \u001b[39mimport\u001b[39;00m print_function\n\u001b[1;32m     23\u001b[0m \u001b[39m# pylint: disable=g-bad-import-order\u001b[39;00m\n\u001b[0;32m---> 24\u001b[0m \u001b[39mfrom\u001b[39;00m \u001b[39mtensorflow\u001b[39;00m\u001b[39m.\u001b[39;00m\u001b[39mpython\u001b[39;00m \u001b[39mimport\u001b[39;00m pywrap_tensorflow  \u001b[39m# pylint: disable=unused-import\u001b[39;00m\n\u001b[1;32m     25\u001b[0m \u001b[39m# pylint: disable=wildcard-import\u001b[39;00m\n\u001b[1;32m     26\u001b[0m \u001b[39mfrom\u001b[39;00m \u001b[39mtensorflow\u001b[39;00m\u001b[39m.\u001b[39;00m\u001b[39mtools\u001b[39;00m\u001b[39m.\u001b[39;00m\u001b[39mapi\u001b[39;00m\u001b[39m.\u001b[39;00m\u001b[39mgenerator\u001b[39;00m\u001b[39m.\u001b[39;00m\u001b[39mapi\u001b[39;00m \u001b[39mimport\u001b[39;00m \u001b[39m*\u001b[39m  \u001b[39m# pylint: disable=redefined-builtin\u001b[39;00m\n",
      "File \u001b[0;32m/Library/Frameworks/Python.framework/Versions/3.10/lib/python3.10/site-packages/tensorflow/python/__init__.py:49\u001b[0m\n\u001b[1;32m     32\u001b[0m \u001b[39m# TODO(drpng): write up instructions for editing this file in a doc and point to\u001b[39;00m\n\u001b[1;32m     33\u001b[0m \u001b[39m# the doc instead.\u001b[39;00m\n\u001b[1;32m     34\u001b[0m \u001b[39m# If you want to edit this file to expose modules in public tensorflow API, you\u001b[39;00m\n\u001b[0;32m   (...)\u001b[0m\n\u001b[1;32m     44\u001b[0m \u001b[39m# go/tf-wildcard-import\u001b[39;00m\n\u001b[1;32m     45\u001b[0m \u001b[39m# pylint: disable=wildcard-import,g-bad-import-order,g-import-not-at-top\u001b[39;00m\n\u001b[1;32m     47\u001b[0m \u001b[39mimport\u001b[39;00m \u001b[39mnumpy\u001b[39;00m \u001b[39mas\u001b[39;00m \u001b[39mnp\u001b[39;00m\n\u001b[0;32m---> 49\u001b[0m \u001b[39mfrom\u001b[39;00m \u001b[39mtensorflow\u001b[39;00m\u001b[39m.\u001b[39;00m\u001b[39mpython\u001b[39;00m \u001b[39mimport\u001b[39;00m pywrap_tensorflow\n\u001b[1;32m     51\u001b[0m \u001b[39m# Protocol buffers\u001b[39;00m\n\u001b[1;32m     52\u001b[0m \u001b[39mfrom\u001b[39;00m \u001b[39mtensorflow\u001b[39;00m\u001b[39m.\u001b[39;00m\u001b[39mcore\u001b[39;00m\u001b[39m.\u001b[39;00m\u001b[39mframework\u001b[39;00m\u001b[39m.\u001b[39;00m\u001b[39mgraph_pb2\u001b[39;00m \u001b[39mimport\u001b[39;00m \u001b[39m*\u001b[39m\n",
      "File \u001b[0;32m/Library/Frameworks/Python.framework/Versions/3.10/lib/python3.10/site-packages/tensorflow/python/pywrap_tensorflow.py:74\u001b[0m\n\u001b[1;32m     69\u001b[0m \u001b[39mexcept\u001b[39;00m \u001b[39mImportError\u001b[39;00m:\n\u001b[1;32m     70\u001b[0m   msg \u001b[39m=\u001b[39m \u001b[39m\"\"\"\u001b[39m\u001b[39m%s\u001b[39;00m\u001b[39m\\n\u001b[39;00m\u001b[39m\\n\u001b[39;00m\u001b[39mFailed to load the native TensorFlow runtime.\u001b[39m\u001b[39m\\n\u001b[39;00m\n\u001b[1;32m     71\u001b[0m \u001b[39mSee https://www.tensorflow.org/install/install_sources#common_installation_problems\u001b[39m\u001b[39m\\n\u001b[39;00m\n\u001b[1;32m     72\u001b[0m \u001b[39mfor some common reasons and solutions.  Include the entire stack trace\u001b[39m\n\u001b[1;32m     73\u001b[0m \u001b[39mabove this error message when asking for help.\u001b[39m\u001b[39m\"\"\"\u001b[39m \u001b[39m%\u001b[39m traceback\u001b[39m.\u001b[39mformat_exc()\n\u001b[0;32m---> 74\u001b[0m   \u001b[39mraise\u001b[39;00m \u001b[39mImportError\u001b[39;00m(msg)\n",
      "\u001b[0;31mImportError\u001b[0m: Traceback (most recent call last):\n  File \"/Library/Frameworks/Python.framework/Versions/3.10/lib/python3.10/site-packages/tensorflow/python/pywrap_tensorflow.py\", line 58, in <module>\n    from tensorflow.python.pywrap_tensorflow_internal import *\n  File \"/Library/Frameworks/Python.framework/Versions/3.10/lib/python3.10/site-packages/tensorflow/python/pywrap_tensorflow_internal.py\", line 28, in <module>\n    _pywrap_tensorflow_internal = swig_import_helper()\n  File \"/Library/Frameworks/Python.framework/Versions/3.10/lib/python3.10/site-packages/tensorflow/python/pywrap_tensorflow_internal.py\", line 24, in swig_import_helper\n    _mod = imp.load_module('_pywrap_tensorflow_internal', fp, pathname, description)\n  File \"/Library/Frameworks/Python.framework/Versions/3.10/lib/python3.10/imp.py\", line 243, in load_module\n    return load_dynamic(name, filename, file)\n  File \"/Library/Frameworks/Python.framework/Versions/3.10/lib/python3.10/imp.py\", line 343, in load_dynamic\n    return _load(spec)\nImportError: dlopen(/Library/Frameworks/Python.framework/Versions/3.10/lib/python3.10/site-packages/tensorflow/python/_pywrap_tensorflow_internal.so, 0x0006): tried: '/Library/Frameworks/Python.framework/Versions/3.10/lib/python3.10/site-packages/tensorflow/python/_pywrap_tensorflow_internal.so' (mach-o file, but is an incompatible architecture (have 'x86_64', need 'arm64')), '/System/Volumes/Preboot/Cryptexes/OS/Library/Frameworks/Python.framework/Versions/3.10/lib/python3.10/site-packages/tensorflow/python/_pywrap_tensorflow_internal.so' (no such file), '/Library/Frameworks/Python.framework/Versions/3.10/lib/python3.10/site-packages/tensorflow/python/_pywrap_tensorflow_internal.so' (mach-o file, but is an incompatible architecture (have 'x86_64', need 'arm64'))\n\n\nFailed to load the native TensorFlow runtime.\n\nSee https://www.tensorflow.org/install/install_sources#common_installation_problems\n\nfor some common reasons and solutions.  Include the entire stack trace\nabove this error message when asking for help."
     ]
    }
   ],
   "source": [
    "from keras.models import Sequential"
   ]
  },
  {
   "cell_type": "code",
   "execution_count": 39,
   "id": "d48a94e3",
   "metadata": {},
   "outputs": [],
   "source": [
    "from keras.layers import Dense, Dropout"
   ]
  },
  {
   "cell_type": "code",
   "execution_count": 40,
   "id": "4bdfb142",
   "metadata": {},
   "outputs": [],
   "source": [
    "model = Sequential()"
   ]
  },
  {
   "cell_type": "code",
   "execution_count": 41,
   "id": "25b32438",
   "metadata": {},
   "outputs": [],
   "source": [
    "model.add(Dense(54,input_dim=54,activation=\"relu\"))"
   ]
  },
  {
   "cell_type": "code",
   "execution_count": 42,
   "id": "8465e88d",
   "metadata": {},
   "outputs": [],
   "source": [
    "model.add(Dropout(0.2))"
   ]
  },
  {
   "cell_type": "code",
   "execution_count": 43,
   "id": "36598c05",
   "metadata": {},
   "outputs": [],
   "source": [
    "model.add(Dense(54,activation=\"relu\"))"
   ]
  },
  {
   "cell_type": "code",
   "execution_count": 44,
   "id": "80970635",
   "metadata": {},
   "outputs": [],
   "source": [
    "model.add(Dropout(0.2))"
   ]
  },
  {
   "cell_type": "code",
   "execution_count": 45,
   "id": "bb386e79",
   "metadata": {},
   "outputs": [],
   "source": [
    "model.add(Dense(1,activation=\"linear\"))"
   ]
  },
  {
   "cell_type": "code",
   "execution_count": 46,
   "id": "414c99b4",
   "metadata": {},
   "outputs": [],
   "source": [
    "model.add(Dropout(0.2))"
   ]
  },
  {
   "cell_type": "code",
   "execution_count": 47,
   "id": "c41d2897",
   "metadata": {},
   "outputs": [],
   "source": [
    "model.compile(loss=\"mse\",optimizer=\"adam\",metrics=[\"mse\"])"
   ]
  },
  {
   "cell_type": "code",
   "execution_count": 48,
   "id": "2fbee9ac",
   "metadata": {},
   "outputs": [
    {
     "name": "stdout",
     "output_type": "stream",
     "text": [
      "Epoch 1/30\n",
      "8327/8327 [==============================] - 85s 3ms/step - loss: 86267242666.1748 - mse: 86267242666.1748\n",
      "Epoch 2/30\n",
      "8327/8327 [==============================] - 19s 2ms/step - loss: 62358189044.4419 - mse: 62358189044.4419: 3s - loss: 62180551846.9935 - mse: 6 - ETA: 2s \n",
      "Epoch 3/30\n",
      "8327/8327 [==============================] - 21s 3ms/step - loss: 64206869579.2507 - mse: 64206869579.2507\n",
      "Epoch 4/30\n",
      "8327/8327 [==============================] - 19s 2ms/step - loss: 60891688833.0452 - mse: 60891688833.0452\n",
      "Epoch 5/30\n",
      "8327/8327 [==============================] - 17s 2ms/step - loss: 62217813755.9116 - mse: 62217813755.9116: 0s - loss: 62261600870.9761 - mse: 622616\n",
      "Epoch 6/30\n",
      "8327/8327 [==============================] - 17s 2ms/step - loss: 59799362307.6888 - mse: 59799362307.6888: 2s - loss: 60015474818.4567  - ETA: 1s - loss: 59897290705.6997 - \n",
      "Epoch 7/30\n",
      "8327/8327 [==============================] - 17s 2ms/step - loss: 57153993630.6167 - mse: 57153993630.6167: 10s - loss: 571\n",
      "Epoch 8/30\n",
      "8327/8327 [==============================] - 17s 2ms/step - loss: 55758852608.0000 - mse: 55758852608.0000\n",
      "Epoch 9/30\n",
      "8327/8327 [==============================] - 19s 2ms/step - loss: 54815006456.7454 - mse: 54815006456.7454: 1 - ETA: 9s - los\n",
      "Epoch 10/30\n",
      "8327/8327 [==============================] - 17s 2ms/step - loss: 54976933965.7099 - mse: 54976933965.7099: 2s - lo\n",
      "Epoch 11/30\n",
      "8327/8327 [==============================] - 23s 3ms/step - loss: 53087323306.6667 - mse: 53087323306.6667\n",
      "Epoch 12/30\n",
      "8327/8327 [==============================] - 24s 3ms/step - loss: 54023421954.7051 - mse: 54023421954.7051\n",
      "Epoch 13/30\n",
      "8327/8327 [==============================] - 25s 3ms/step - loss: 52343219194.0365 - mse: 52343219194.0365: 9s - los - ETA: 8s - loss: 51910925782.7377 - mse: 51910925 - ETA: 8s - loss: 51930178609.7486 - mse: 5193017860 - ETA: 8s - loss: 51946197765.0293 - mse: 51946197765.02 - ETA: 8s - loss: 51951516575.5277 - mse - ETA: 8s - loss: 5198809 - ETA: 4s - loss: 52106846505.3915 - mse: 52106846505. - ETA: 4s - loss: 521 - ETA: 2\n",
      "Epoch 14/30\n",
      "8327/8327 [==============================] - 18s 2ms/step - loss: 54151829982.0634 - mse: 54151829982.0634:  - ETA: 3s - loss: 54176906903.4628 - mse: 54176\n",
      "Epoch 15/30\n",
      "8327/8327 [==============================] - 20s 2ms/step - loss: 51978665561.0845 - mse: 51978665561.0845: 8s - loss: 52210547308 - ETA: \n",
      "Epoch 16/30\n",
      "8327/8327 [==============================] - 18s 2ms/step - loss: 52594584849.9520 - mse: 52594584849.9520: 0s - loss: 52605620128.8869 - mse: 52\n",
      "Epoch 17/30\n",
      "8327/8327 [==============================] - 17s 2ms/step - loss: 51261974377.4371 - mse: 51261974377.4371: 7s - loss: 50829295465.0734 - mse: 5082929 - ETA: 6s - loss: 50869748025.2223 - mse: 5086\n",
      "Epoch 18/30\n",
      "8327/8327 [==============================] - 17s 2ms/step - loss: 51134559315.1201 - mse: 51134559315.1201\n",
      "Epoch 19/30\n",
      "8327/8327 [==============================] - 20s 2ms/step - loss: 51287537020.6801 - mse: 51287537020.6801: 0s - loss: 51312669225.3220 - mse: 51312669225.322 - ETA: 0s - loss: 51311528069.4663 - mse: 5131 - ETA: 0s - loss: 51297380089.0660 - mse: 51297380\n",
      "Epoch 20/30\n",
      "8327/8327 [==============================] - 29s 3ms/step - loss: 53975858711.9155 - mse: 53975858711.9155: 7s - loss: 54080502234.8770 - mse: 5408050223 - ETA: 7s - loss: 54082555970.2254 - - ETA: 7s - loss: 54089552850.7680 - mse: 540 - ETA: 7s - loss: - ETA: 6s - loss: 54070378205.4581 - mse: 540703 - ETA: 6s - loss: 54070053178.88 -\n",
      "Epoch 21/30\n",
      "8327/8327 [==============================] - 20s 2ms/step - loss: 52074899587.5658 - mse: 52074899587.5658: 1s - loss: 52136820233.7834 - mse\n",
      "Epoch 22/30\n",
      "8327/8327 [==============================] - 20s 2ms/step - loss: 52491557096.1268 - mse: 52491557096.1268: 9s - loss: 52684358281.7050 - mse: 52684358281.70 - ETA: 9s - lo - - ETA: 1s - loss: 52488256762.2611 - mse: 52488256762.26 - ETA: 1s - loss: 52487185772.1151 - mse: 5248 - ETA: 0s - loss: 52486080114.5528 \n",
      "Epoch 23/30\n",
      "8327/8327 [==============================] - 20s 2ms/step - loss: 53174270000.6916 - mse: 53174270000.6916: 1s - loss: 53219226820.9231 - \n",
      "Epoch 24/30\n",
      "8327/8327 [==============================] - 27s 3ms/step - loss: 49712803513.6676 - mse: 49712803513.6676: 11s - loss: 49857509327.8324 - mse: 49857509327. - ETA: 11s - loss: 49846925293.3345 - ms\n",
      "Epoch 25/30\n",
      "8327/8327 [==============================] - 22s 3ms/step - loss: 50718558068.2882 - mse: 50718558068.2882\n",
      "Epoch 26/30\n",
      "8327/8327 [==============================] - 13s 2ms/step - loss: 50812426458.6206 - mse: 50812426458.6206\n",
      "Epoch 27/30\n",
      "8327/8327 [==============================] - 13s 2ms/step - loss: 48126757779.5812 - mse: 48126757779.5812\n",
      "Epoch 28/30\n",
      "8327/8327 [==============================] - 13s 2ms/step - loss: 48773521768.6071 - mse: 48773521768.6071\n",
      "Epoch 29/30\n",
      "8327/8327 [==============================] - 13s 2ms/step - loss: 49538918568.2075 - mse: 49538918568.2075\n",
      "Epoch 30/30\n",
      "8327/8327 [==============================] - 13s 2ms/step - loss: 48805006628.8876 - mse: 48805006628.8876\n"
     ]
    }
   ],
   "source": [
    "history = model.fit(X_train,Y_train,batch_size=2,epochs=30)"
   ]
  },
  {
   "cell_type": "code",
   "execution_count": 49,
   "id": "28d5cf4b",
   "metadata": {},
   "outputs": [],
   "source": [
    "import matplotlib.pyplot as plt"
   ]
  },
  {
   "cell_type": "code",
   "execution_count": 50,
   "id": "856fac38",
   "metadata": {},
   "outputs": [
    {
     "data": {
      "text/plain": [
       "[<matplotlib.lines.Line2D at 0x1a2974efca0>]"
      ]
     },
     "execution_count": 50,
     "metadata": {},
     "output_type": "execute_result"
    },
    {
     "data": {
      "image/png": "[encoded data removed]",
      "text/plain": [
       "<Figure size 432x288 with 1 Axes>"
      ]
     },
     "metadata": {
      "needs_background": "light"
     },
     "output_type": "display_data"
    }
   ],
   "source": [
    "plt.plot(history.history['mse'])"
   ]
  },
  {
   "cell_type": "code",
   "execution_count": 51,
   "id": "744ca22f",
   "metadata": {},
   "outputs": [
    {
     "name": "stdout",
     "output_type": "stream",
     "text": [
      "174/174 [==============================] - 1s 1ms/step - loss: 17732089856.0000 - mse: 17732089856.0000\n"
     ]
    }
   ],
   "source": [
    "result = model.evaluate(X_test,Y_test)"
   ]
  },
  {
   "cell_type": "code",
   "execution_count": 52,
   "id": "0932d6f7",
   "metadata": {},
   "outputs": [
    {
     "data": {
      "text/plain": [
       "133161.89340798664"
      ]
     },
     "execution_count": 52,
     "metadata": {},
     "output_type": "execute_result"
    }
   ],
   "source": [
    "result[1]**0.5"
   ]
  },
  {
   "cell_type": "code",
   "execution_count": null,
   "id": "e2471d14",
   "metadata": {},
   "outputs": [],
   "source": []
  },
  {
   "cell_type": "code",
   "execution_count": null,
   "id": "6a831dea",
   "metadata": {},
   "outputs": [],
   "source": []
  },
  {
   "cell_type": "code",
   "execution_count": null,
   "id": "bb8ee4bf",
   "metadata": {},
   "outputs": [],
   "source": []
  },
  {
   "cell_type": "code",
   "execution_count": null,
   "id": "683a5832",
   "metadata": {},
   "outputs": [],
   "source": []
  }
 ],
 "metadata": {
  "kernelspec": {
   "display_name": "Python 3",
   "language": "python",
   "name": "python3"
  },
  "language_info": {
   "codemirror_mode": {
    "name": "ipython",
    "version": 3
   },
   "file_extension": ".py",
   "mimetype": "text/x-python",
   "name": "python",
   "nbconvert_exporter": "python",
   "pygments_lexer": "ipython3",
   "version": "3.10.7"
  },
  "vscode": {
   "interpreter": {
    "hash": "7e1998ff7f8aa20ada591c520b972326324e5ea05489af9e422744c7c09f6dad"
   }
  }
 },
 "nbformat": 4,
 "nbformat_minor": 5
}
