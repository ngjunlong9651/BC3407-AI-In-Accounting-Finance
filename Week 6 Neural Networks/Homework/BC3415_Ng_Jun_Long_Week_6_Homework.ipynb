{
  "nbformat": 4,
  "nbformat_minor": 0,
  "metadata": {
    "colab": {
      "provenance": []
    },
    "kernelspec": {
      "name": "python3",
      "display_name": "Python 3"
    },
    "language_info": {
      "name": "python"
    }
  },
  "cells": [
    {
      "cell_type": "code",
      "execution_count": 1,
      "metadata": {
        "id": "C2W1hBilZxyy",
        "colab": {
          "base_uri": "https://localhost:8080/"
        },
        "outputId": "d7b71011-b1c0-4d59-8fb9-9cf6904234f6"
      },
      "outputs": [
        {
          "output_type": "stream",
          "name": "stdout",
          "text": [
            "\u001b[2K     \u001b[90m━━━━━━━━━━━━━━━━━━━━━━━━━━━━━━━━━━━━━━━\u001b[0m \u001b[32m167.3/167.3 KB\u001b[0m \u001b[31m3.9 MB/s\u001b[0m eta \u001b[36m0:00:00\u001b[0m\n",
            "\u001b[2K     \u001b[90m━━━━━━━━━━━━━━━━━━━━━━━━━━━━━━━━━━━━━━━━\u001b[0m \u001b[32m1.6/1.6 MB\u001b[0m \u001b[31m19.8 MB/s\u001b[0m eta \u001b[36m0:00:00\u001b[0m\n",
            "\u001b[?25h"
          ]
        },
        {
          "output_type": "stream",
          "name": "stderr",
          "text": [
            "<ipython-input-1-af81d72c2b7c>:31: DeprecationWarning: `import kerastuner` is deprecated, please use `import keras_tuner`.\n",
            "  import kerastuner as kt\n"
          ]
        }
      ],
      "source": [
        "import pandas as pd\n",
        "import matplotlib.pyplot as plt\n",
        "import matplotlib.ticker as ticker\n",
        "\n",
        "import numpy as np\n",
        "import seaborn as sns\n",
        "from scipy import stats\n",
        "from sklearn import linear_model\n",
        "\n",
        "from sklearn import tree\n",
        "from sklearn import ensemble\n",
        "from sklearn import neural_network\n",
        "from sklearn.preprocessing import StandardScaler\n",
        "from sklearn.metrics import confusion_matrix\n",
        "from sklearn.metrics import mean_squared_error\n",
        "from sklearn.model_selection import GridSearchCV\n",
        "from sklearn.model_selection import train_test_split\n",
        "# from sklearn.metrics import plot_roc_curve, plot_precision_recall_curve. This code is outdated.\n",
        "from sklearn import metrics\n",
        "\n",
        "## \n",
        "from sklearn.linear_model import LinearRegression\n",
        "\n",
        "\n",
        "## Tensorflow stuff:\n",
        "import tensorflow as tf\n",
        "from keras.optimizers import Adam\n",
        "from keras.models import Sequential\n",
        "from keras.layers import Dense, Dropout\n",
        "!pip install -q -U keras-tuner\n",
        "import kerastuner as kt\n",
        "\n",
        "np.random.seed(42)\n",
        "\n",
        "# Import additional libraries\n",
        "import numpy as np # linear algebra\n",
        "import pandas as pd # data processing, CSV file I/O (e.g. pd.read_csv)\n",
        "\n",
        "# import visualization libraries\n",
        "import seaborn as sns\n",
        "import matplotlib.pyplot as plt\n",
        "%matplotlib inline\n",
        "\n",
        "\n",
        "## Importing Smote\n",
        "from imblearn.over_sampling import SMOTE"
      ]
    },
    {
      "cell_type": "code",
      "source": [
        "## Importing the dataset: \n",
        "from google.colab import drive\n",
        "drive.mount('/content/drive')\n",
        "df = pd.read_csv(\"/content/drive/MyDrive/Colab Notebooks/Datasets/ResaleFlatPrice.csv\")\n",
        "\n",
        "\n",
        "\n",
        "\n",
        "## If done on local machine, uncomment this line of code:\n",
        "## df = pd.read_csv(\"/Users/junlongng/Desktop/NTU/Year_2/Semester 2/BC3415 AI in ACC & Finance/Week 4 Regression/Homework/Loan Default (Employed).csv\")\n"
      ],
      "metadata": {
        "id": "g6rpolRganF-",
        "outputId": "bab538a3-a20e-4863-8850-74e4b5d8d5ce",
        "colab": {
          "base_uri": "https://localhost:8080/"
        }
      },
      "execution_count": 2,
      "outputs": [
        {
          "output_type": "stream",
          "name": "stdout",
          "text": [
            "Mounted at /content/drive\n"
          ]
        }
      ]
    },
    {
      "cell_type": "code",
      "source": [
        "df.columns"
      ],
      "metadata": {
        "colab": {
          "base_uri": "https://localhost:8080/"
        },
        "id": "Df_jA8yMb9oN",
        "outputId": "5e556077-3575-4b93-bf42-210c0ce21558"
      },
      "execution_count": 3,
      "outputs": [
        {
          "output_type": "execute_result",
          "data": {
            "text/plain": [
              "Index(['month', 'town', 'flat_type', 'block', 'street_name', 'storey_range',\n",
              "       'floor_area_sqm', 'flat_model', 'lease_commence_date',\n",
              "       'remaining_lease', 'resale_price'],\n",
              "      dtype='object')"
            ]
          },
          "metadata": {},
          "execution_count": 3
        }
      ]
    },
    {
      "cell_type": "code",
      "source": [
        "## Checking for null values\n",
        "df.isnull().any()"
      ],
      "metadata": {
        "colab": {
          "base_uri": "https://localhost:8080/"
        },
        "id": "ZI5NqOD8cFhX",
        "outputId": "5606a01d-f2d6-4688-d094-d44d00b1d489"
      },
      "execution_count": 4,
      "outputs": [
        {
          "output_type": "execute_result",
          "data": {
            "text/plain": [
              "month                  False\n",
              "town                   False\n",
              "flat_type              False\n",
              "block                  False\n",
              "street_name            False\n",
              "storey_range           False\n",
              "floor_area_sqm         False\n",
              "flat_model             False\n",
              "lease_commence_date    False\n",
              "remaining_lease        False\n",
              "resale_price           False\n",
              "dtype: bool"
            ]
          },
          "metadata": {},
          "execution_count": 4
        }
      ]
    },
    {
      "cell_type": "code",
      "source": [
        "df[\"flat_model\"].value_counts()"
      ],
      "metadata": {
        "colab": {
          "base_uri": "https://localhost:8080/"
        },
        "id": "qigm8jBNcKZ2",
        "outputId": "cb1e3516-193f-4f25-8e31-870d3cd90153"
      },
      "execution_count": 5,
      "outputs": [
        {
          "output_type": "execute_result",
          "data": {
            "text/plain": [
              "Model A                   7664\n",
              "Improved                  5560\n",
              "New Generation            3056\n",
              "Premium Apartment         2122\n",
              "Simplified                 930\n",
              "Apartment                  816\n",
              "Maisonette                 662\n",
              "Standard                   647\n",
              "DBSS                       310\n",
              "Model A2                   254\n",
              "Model A-Maisonette          46\n",
              "Adjoined flat               46\n",
              "Type S1                     37\n",
              "Type S2                     16\n",
              "Terrace                     14\n",
              "Multi Generation            14\n",
              "Premium Apartment Loft       4\n",
              "Premium Maisonette           4\n",
              "Improved-Maisonette          2\n",
              "Name: flat_model, dtype: int64"
            ]
          },
          "metadata": {},
          "execution_count": 5
        }
      ]
    },
    {
      "cell_type": "code",
      "source": [
        "df = df.loc[:, ['town', 'flat_type','floor_area_sqm','flat_model', 'lease_commence_date', \"resale_price\"]]"
      ],
      "metadata": {
        "id": "LFVvZNbecU-n"
      },
      "execution_count": 6,
      "outputs": []
    },
    {
      "cell_type": "code",
      "source": [
        "plt.hist(df['floor_area_sqm'], bins=50, edgecolor='black')\n",
        "plt.title('Distribution of HDB Floor Area')\n",
        "plt.show()"
      ],
      "metadata": {
        "colab": {
          "base_uri": "https://localhost:8080/",
          "height": 281
        },
        "id": "pDx3w4qJcWxZ",
        "outputId": "da6f6a5a-c29f-4953-f1be-28a0e1ead0e4"
      },
      "execution_count": 7,
      "outputs": [
        {
          "output_type": "display_data",
          "data": {
            "text/plain": [
              "<Figure size 432x288 with 1 Axes>"
            ],
            "image/png": "[encoded data removed]"
          },
          "metadata": {
            "needs_background": "light"
          }
        }
      ]
    },
    {
      "cell_type": "code",
      "source": [
        "plt.figure(figsize=(20,10))\n",
        "ax = sns.countplot(x = 'flat_model', data = df)\n",
        "ax.set_xticklabels(ax.get_xticklabels(), rotation=45)\n",
        "plt.show()\n",
        "\n"
      ],
      "metadata": {
        "id": "PDmOm4Od_rV8",
        "colab": {
          "base_uri": "https://localhost:8080/",
          "height": 691
        },
        "outputId": "9e7fda71-c4c6-4f21-a9bb-bf8be6decc82"
      },
      "execution_count": 8,
      "outputs": [
        {
          "output_type": "display_data",
          "data": {
            "text/plain": [
              "<Figure size 1440x720 with 1 Axes>"
            ],
            "image/png": "[encoded data removed]"
          },
          "metadata": {
            "needs_background": "light"
          }
        }
      ]
    },
    {
      "cell_type": "code",
      "source": [
        "## Normalizing Z score value for floor area / SQM\n",
        "df['floor_area_sqm'] = stats.zscore(df['floor_area_sqm'])"
      ],
      "metadata": {
        "id": "LPxe9eiMcYLz"
      },
      "execution_count": 9,
      "outputs": []
    },
    {
      "cell_type": "code",
      "source": [
        "## Encoding variables\n",
        "d = pd.get_dummies(df['town'])\n",
        "df = df.merge(d,left_index=True, right_index = True).drop(columns =\"town\")"
      ],
      "metadata": {
        "id": "Bgn55Bi0kUeZ"
      },
      "execution_count": 10,
      "outputs": []
    },
    {
      "cell_type": "code",
      "source": [
        "d = pd.get_dummies(df['flat_model'])\n",
        "df = df.merge(d,left_index=True, right_index = True).drop(columns =\"flat_model\")"
      ],
      "metadata": {
        "id": "TXboishXmn5R"
      },
      "execution_count": 11,
      "outputs": []
    },
    {
      "cell_type": "code",
      "source": [
        "d = pd.get_dummies(df['flat_type'])\n",
        "df = df.merge(d,left_index=True, right_index=True).drop(columns = \"flat_type\")"
      ],
      "metadata": {
        "id": "dRu04cV5ksvQ"
      },
      "execution_count": 12,
      "outputs": []
    },
    {
      "cell_type": "code",
      "source": [
        "df.head()"
      ],
      "metadata": {
        "colab": {
          "base_uri": "https://localhost:8080/",
          "height": 334
        },
        "id": "LlZg5Eq8k39k",
        "outputId": "75fe7a07-f0de-4660-a59d-522a31763ef3"
      },
      "execution_count": 13,
      "outputs": [
        {
          "output_type": "execute_result",
          "data": {
            "text/plain": [
              "   floor_area_sqm  lease_commence_date  resale_price  ANG MO KIO  BEDOK  \\\n",
              "0       -1.193788                 1981      270000.0           1      0   \n",
              "1       -0.988498                 1976      295000.0           1      0   \n",
              "2       -1.234846                 1978      270000.0           1      0   \n",
              "3       -1.234846                 1978      230000.0           1      0   \n",
              "4       -1.193788                 1981      262500.0           1      0   \n",
              "\n",
              "   BISHAN  BUKIT BATOK  BUKIT MERAH  BUKIT PANJANG  BUKIT TIMAH  ...  Terrace  \\\n",
              "0       0            0            0              0            0  ...        0   \n",
              "1       0            0            0              0            0  ...        0   \n",
              "2       0            0            0              0            0  ...        0   \n",
              "3       0            0            0              0            0  ...        0   \n",
              "4       0            0            0              0            0  ...        0   \n",
              "\n",
              "   Type S1  Type S2  1 ROOM  2 ROOM  3 ROOM  4 ROOM  5 ROOM  EXECUTIVE  \\\n",
              "0        0        0       0       0       1       0       0          0   \n",
              "1        0        0       0       0       1       0       0          0   \n",
              "2        0        0       0       0       1       0       0          0   \n",
              "3        0        0       0       0       1       0       0          0   \n",
              "4        0        0       0       0       1       0       0          0   \n",
              "\n",
              "   MULTI-GENERATION  \n",
              "0                 0  \n",
              "1                 0  \n",
              "2                 0  \n",
              "3                 0  \n",
              "4                 0  \n",
              "\n",
              "[5 rows x 55 columns]"
            ],
            "text/html": [
              "\n",
              "  <div id=\"df-0a5c4bbb-9036-4cdf-968d-99103f372a75\">\n",
              "    <div class=\"colab-df-container\">\n",
              "      <div>\n",
              "<style scoped>\n",
              "    .dataframe tbody tr th:only-of-type {\n",
              "        vertical-align: middle;\n",
              "    }\n",
              "\n",
              "    .dataframe tbody tr th {\n",
              "        vertical-align: top;\n",
              "    }\n",
              "\n",
              "    .dataframe thead th {\n",
              "        text-align: right;\n",
              "    }\n",
              "</style>\n",
              "<table border=\"1\" class=\"dataframe\">\n",
              "  <thead>\n",
              "    <tr style=\"text-align: right;\">\n",
              "      <th></th>\n",
              "      <th>floor_area_sqm</th>\n",
              "      <th>lease_commence_date</th>\n",
              "      <th>resale_price</th>\n",
              "      <th>ANG MO KIO</th>\n",
              "      <th>BEDOK</th>\n",
              "      <th>BISHAN</th>\n",
              "      <th>BUKIT BATOK</th>\n",
              "      <th>BUKIT MERAH</th>\n",
              "      <th>BUKIT PANJANG</th>\n",
              "      <th>BUKIT TIMAH</th>\n",
              "      <th>...</th>\n",
              "      <th>Terrace</th>\n",
              "      <th>Type S1</th>\n",
              "      <th>Type S2</th>\n",
              "      <th>1 ROOM</th>\n",
              "      <th>2 ROOM</th>\n",
              "      <th>3 ROOM</th>\n",
              "      <th>4 ROOM</th>\n",
              "      <th>5 ROOM</th>\n",
              "      <th>EXECUTIVE</th>\n",
              "      <th>MULTI-GENERATION</th>\n",
              "    </tr>\n",
              "  </thead>\n",
              "  <tbody>\n",
              "    <tr>\n",
              "      <th>0</th>\n",
              "      <td>-1.193788</td>\n",
              "      <td>1981</td>\n",
              "      <td>270000.0</td>\n",
              "      <td>1</td>\n",
              "      <td>0</td>\n",
              "      <td>0</td>\n",
              "      <td>0</td>\n",
              "      <td>0</td>\n",
              "      <td>0</td>\n",
              "      <td>0</td>\n",
              "      <td>...</td>\n",
              "      <td>0</td>\n",
              "      <td>0</td>\n",
              "      <td>0</td>\n",
              "      <td>0</td>\n",
              "      <td>0</td>\n",
              "      <td>1</td>\n",
              "      <td>0</td>\n",
              "      <td>0</td>\n",
              "      <td>0</td>\n",
              "      <td>0</td>\n",
              "    </tr>\n",
              "    <tr>\n",
              "      <th>1</th>\n",
              "      <td>-0.988498</td>\n",
              "      <td>1976</td>\n",
              "      <td>295000.0</td>\n",
              "      <td>1</td>\n",
              "      <td>0</td>\n",
              "      <td>0</td>\n",
              "      <td>0</td>\n",
              "      <td>0</td>\n",
              "      <td>0</td>\n",
              "      <td>0</td>\n",
              "      <td>...</td>\n",
              "      <td>0</td>\n",
              "      <td>0</td>\n",
              "      <td>0</td>\n",
              "      <td>0</td>\n",
              "      <td>0</td>\n",
              "      <td>1</td>\n",
              "      <td>0</td>\n",
              "      <td>0</td>\n",
              "      <td>0</td>\n",
              "      <td>0</td>\n",
              "    </tr>\n",
              "    <tr>\n",
              "      <th>2</th>\n",
              "      <td>-1.234846</td>\n",
              "      <td>1978</td>\n",
              "      <td>270000.0</td>\n",
              "      <td>1</td>\n",
              "      <td>0</td>\n",
              "      <td>0</td>\n",
              "      <td>0</td>\n",
              "      <td>0</td>\n",
              "      <td>0</td>\n",
              "      <td>0</td>\n",
              "      <td>...</td>\n",
              "      <td>0</td>\n",
              "      <td>0</td>\n",
              "      <td>0</td>\n",
              "      <td>0</td>\n",
              "      <td>0</td>\n",
              "      <td>1</td>\n",
              "      <td>0</td>\n",
              "      <td>0</td>\n",
              "      <td>0</td>\n",
              "      <td>0</td>\n",
              "    </tr>\n",
              "    <tr>\n",
              "      <th>3</th>\n",
              "      <td>-1.234846</td>\n",
              "      <td>1978</td>\n",
              "      <td>230000.0</td>\n",
              "      <td>1</td>\n",
              "      <td>0</td>\n",
              "      <td>0</td>\n",
              "      <td>0</td>\n",
              "      <td>0</td>\n",
              "      <td>0</td>\n",
              "      <td>0</td>\n",
              "      <td>...</td>\n",
              "      <td>0</td>\n",
              "      <td>0</td>\n",
              "      <td>0</td>\n",
              "      <td>0</td>\n",
              "      <td>0</td>\n",
              "      <td>1</td>\n",
              "      <td>0</td>\n",
              "      <td>0</td>\n",
              "      <td>0</td>\n",
              "      <td>0</td>\n",
              "    </tr>\n",
              "    <tr>\n",
              "      <th>4</th>\n",
              "      <td>-1.193788</td>\n",
              "      <td>1981</td>\n",
              "      <td>262500.0</td>\n",
              "      <td>1</td>\n",
              "      <td>0</td>\n",
              "      <td>0</td>\n",
              "      <td>0</td>\n",
              "      <td>0</td>\n",
              "      <td>0</td>\n",
              "      <td>0</td>\n",
              "      <td>...</td>\n",
              "      <td>0</td>\n",
              "      <td>0</td>\n",
              "      <td>0</td>\n",
              "      <td>0</td>\n",
              "      <td>0</td>\n",
              "      <td>1</td>\n",
              "      <td>0</td>\n",
              "      <td>0</td>\n",
              "      <td>0</td>\n",
              "      <td>0</td>\n",
              "    </tr>\n",
              "  </tbody>\n",
              "</table>\n",
              "<p>5 rows × 55 columns</p>\n",
              "</div>\n",
              "      <button class=\"colab-df-convert\" onclick=\"convertToInteractive('df-0a5c4bbb-9036-4cdf-968d-99103f372a75')\"\n",
              "              title=\"Convert this dataframe to an interactive table.\"\n",
              "              style=\"display:none;\">\n",
              "        \n",
              "  <svg xmlns=\"http://www.w3.org/2000/svg\" height=\"24px\"viewBox=\"0 0 24 24\"\n",
              "       width=\"24px\">\n",
              "    <path d=\"M0 0h24v24H0V0z\" fill=\"none\"/>\n",
              "    <path d=\"M18.56 5.44l.94 2.06.94-2.06 2.06-.94-2.06-.94-.94-2.06-.94 2.06-2.06.94zm-11 1L8.5 8.5l.94-2.06 2.06-.94-2.06-.94L8.5 2.5l-.94 2.06-2.06.94zm10 10l.94 2.06.94-2.06 2.06-.94-2.06-.94-.94-2.06-.94 2.06-2.06.94z\"/><path d=\"M17.41 7.96l-1.37-1.37c-.4-.4-.92-.59-1.43-.59-.52 0-1.04.2-1.43.59L10.3 9.45l-7.72 7.72c-.78.78-.78 2.05 0 2.83L4 21.41c.39.39.9.59 1.41.59.51 0 1.02-.2 1.41-.59l7.78-7.78 2.81-2.81c.8-.78.8-2.07 0-2.86zM5.41 20L4 18.59l7.72-7.72 1.47 1.35L5.41 20z\"/>\n",
              "  </svg>\n",
              "      </button>\n",
              "      \n",
              "  <style>\n",
              "    .colab-df-container {\n",
              "      display:flex;\n",
              "      flex-wrap:wrap;\n",
              "      gap: 12px;\n",
              "    }\n",
              "\n",
              "    .colab-df-convert {\n",
              "      background-color: #E8F0FE;\n",
              "      border: none;\n",
              "      border-radius: 50%;\n",
              "      cursor: pointer;\n",
              "      display: none;\n",
              "      fill: #1967D2;\n",
              "      height: 32px;\n",
              "      padding: 0 0 0 0;\n",
              "      width: 32px;\n",
              "    }\n",
              "\n",
              "    .colab-df-convert:hover {\n",
              "      background-color: #E2EBFA;\n",
              "      box-shadow: 0px 1px 2px rgba(60, 64, 67, 0.3), 0px 1px 3px 1px rgba(60, 64, 67, 0.15);\n",
              "      fill: #174EA6;\n",
              "    }\n",
              "\n",
              "    [theme=dark] .colab-df-convert {\n",
              "      background-color: #3B4455;\n",
              "      fill: #D2E3FC;\n",
              "    }\n",
              "\n",
              "    [theme=dark] .colab-df-convert:hover {\n",
              "      background-color: #434B5C;\n",
              "      box-shadow: 0px 1px 3px 1px rgba(0, 0, 0, 0.15);\n",
              "      filter: drop-shadow(0px 1px 2px rgba(0, 0, 0, 0.3));\n",
              "      fill: #FFFFFF;\n",
              "    }\n",
              "  </style>\n",
              "\n",
              "      <script>\n",
              "        const buttonEl =\n",
              "          document.querySelector('#df-0a5c4bbb-9036-4cdf-968d-99103f372a75 button.colab-df-convert');\n",
              "        buttonEl.style.display =\n",
              "          google.colab.kernel.accessAllowed ? 'block' : 'none';\n",
              "\n",
              "        async function convertToInteractive(key) {\n",
              "          const element = document.querySelector('#df-0a5c4bbb-9036-4cdf-968d-99103f372a75');\n",
              "          const dataTable =\n",
              "            await google.colab.kernel.invokeFunction('convertToInteractive',\n",
              "                                                     [key], {});\n",
              "          if (!dataTable) return;\n",
              "\n",
              "          const docLinkHtml = 'Like what you see? Visit the ' +\n",
              "            '<a target=\"_blank\" href=https://colab.research.google.com/notebooks/data_table.ipynb>data table notebook</a>'\n",
              "            + ' to learn more about interactive tables.';\n",
              "          element.innerHTML = '';\n",
              "          dataTable['output_type'] = 'display_data';\n",
              "          await google.colab.output.renderOutput(dataTable, element);\n",
              "          const docLink = document.createElement('div');\n",
              "          docLink.innerHTML = docLinkHtml;\n",
              "          element.appendChild(docLink);\n",
              "        }\n",
              "      </script>\n",
              "    </div>\n",
              "  </div>\n",
              "  "
            ]
          },
          "metadata": {},
          "execution_count": 13
        }
      ]
    },
    {
      "cell_type": "code",
      "source": [
        "## Target Variable (Y) shall be the resale price:\n",
        "X = df.drop(columns =\"resale_price\")\n",
        "Y = df['resale_price']"
      ],
      "metadata": {
        "id": "GeVnQwYTk7Js"
      },
      "execution_count": 14,
      "outputs": []
    },
    {
      "cell_type": "code",
      "source": [
        "## Train test split\n",
        "X_train,X_test,Y_train,Y_test = train_test_split(X,Y)"
      ],
      "metadata": {
        "id": "4TxgR2m3lHAO"
      },
      "execution_count": 15,
      "outputs": []
    },
    {
      "cell_type": "code",
      "source": [
        "## Using Linear Model since Target Y is a numerical attribute\n",
        "model = linear_model.LinearRegression()\n",
        "model.fit(X_train,Y_train)\n",
        "pred = model.predict(X_test)\n",
        "print(\"RMSE using linear model is: \" , mean_squared_error(Y_test, pred)**0.5)"
      ],
      "metadata": {
        "id": "4ZZ08gzrlVyB",
        "colab": {
          "base_uri": "https://localhost:8080/"
        },
        "outputId": "f126ec6d-7750-4a0f-c33b-9e386b735feb"
      },
      "execution_count": 16,
      "outputs": [
        {
          "output_type": "stream",
          "name": "stdout",
          "text": [
            "RMSE using linear model is:  62049.157229095465\n"
          ]
        }
      ]
    },
    {
      "cell_type": "code",
      "source": [
        "## Using a CART Model:\n",
        "\n",
        "tree_model = tree.DecisionTreeRegressor(random_state=42)\n",
        "tree_model.fit(X_train,Y_train)\n",
        "pred = tree_model.predict(X_test)\n",
        "print(\"RMSE using CART model is: \", mean_squared_error(Y_test, pred)**0.5)"
      ],
      "metadata": {
        "colab": {
          "base_uri": "https://localhost:8080/"
        },
        "id": "pjJvcUoGmcLS",
        "outputId": "33ccf013-70ff-439f-cf69-9ea42d60fe9c"
      },
      "execution_count": 43,
      "outputs": [
        {
          "output_type": "stream",
          "name": "stdout",
          "text": [
            "RMSE using CART model is:  42382.99128194354\n"
          ]
        }
      ]
    },
    {
      "cell_type": "code",
      "source": [
        "## Using GridSearchCV to lower RMSE\n",
        "from sklearn.model_selection import GridSearchCV\n",
        "\n",
        "tree_model = tree.DecisionTreeRegressor(random_state=42)\n",
        "\n",
        "param_grid = {\n",
        "    'max_depth': [2, 4, 6, 8],\n",
        "    'min_samples_split': [2, 4, 6],\n",
        "    'min_samples_leaf': [1, 2, 4],\n",
        "    'max_leaf_nodes': [None, 5, 10, 15]\n",
        "}\n",
        "\n",
        "grid_search = GridSearchCV(tree_model, param_grid, cv=5, scoring='neg_mean_squared_error')\n",
        "grid_search.fit(X_train, Y_train)\n",
        "\n",
        "best_model = grid_search.best_estimator_\n",
        "best_pred = best_model.predict(X_test)\n",
        "print(\"RMSE using tuned CART model is: \", mean_squared_error(Y_test, best_pred)**0.5)\n"
      ],
      "metadata": {
        "colab": {
          "base_uri": "https://localhost:8080/"
        },
        "id": "K9aaAq8-vxuu",
        "outputId": "fc8eeb91-42e1-43ec-de47-6101d3da353e"
      },
      "execution_count": 44,
      "outputs": [
        {
          "output_type": "stream",
          "name": "stdout",
          "text": [
            "RMSE using tuned CART model is:  76678.97770097812\n"
          ]
        }
      ]
    },
    {
      "cell_type": "code",
      "source": [
        "from sklearn.tree import DecisionTreeRegressor\n",
        "from sklearn.metrics import mean_squared_error\n",
        "from sklearn.model_selection import train_test_split\n",
        "from sklearn.model_selection import GridSearchCV\n",
        "from sklearn.metrics import make_scorer\n",
        "import numpy as np\n",
        "\n",
        "# Split the data into training and testing sets\n",
        "X_train, X_test, Y_train, Y_test = train_test_split(X, Y, test_size=0.2, random_state=42)\n",
        "\n",
        "# Create a decision tree regressor object\n",
        "tree_model = DecisionTreeRegressor(random_state=42)\n",
        "\n",
        "# Define the parameter grid to search over\n",
        "param_grid = {'max_depth': range(1, 11),\n",
        "              'min_samples_split': range(2, 11),\n",
        "              'min_samples_leaf': range(1, 11)}\n",
        "\n",
        "# Define the scorer to use for cross-validation\n",
        "scorer = make_scorer(mean_squared_error, greater_is_better=False)\n",
        "\n",
        "# Create a grid search object\n",
        "grid_search = GridSearchCV(tree_model, param_grid, cv=5, scoring=scorer)\n",
        "\n",
        "# Fit the grid search object to the data\n",
        "grid_search.fit(X_train, Y_train)\n",
        "\n",
        "# Get the best decision tree model from the grid search\n",
        "best_tree_model = grid_search.best_estimator_\n",
        "\n",
        "# Prune the tree using cost complexity pruning\n",
        "path = best_tree_model.cost_complexity_pruning_path(X_train, Y_train)\n",
        "ccp_alphas, impurities = path.ccp_alphas, path.impurities\n",
        "clfs = []\n",
        "for ccp_alpha in ccp_alphas:\n",
        "    clf = DecisionTreeRegressor(random_state=42, ccp_alpha=ccp_alpha)\n",
        "    clf.fit(X_train, Y_train)\n",
        "    clfs.append(clf)\n",
        "    \n",
        "# Compute the mean squared error for each decision tree model\n",
        "test_scores = [mean_squared_error(Y_test, clf.predict(X_test)) for clf in clfs]\n",
        "\n",
        "# Select the best decision tree model based on the minimum mean squared error\n",
        "best_idx = np.argmin(test_scores)\n",
        "best_tree_model = clfs[best_idx]\n",
        "\n",
        "# Compute the RMSE of the pruned decision tree model\n",
        "pred = best_tree_model.predict(X_test)\n",
        "print(\"RMSE using pruned CART model is: \", mean_squared_error(Y_test, pred)**0.5)\n",
        "\n",
        "## Error decreased\n"
      ],
      "metadata": {
        "colab": {
          "base_uri": "https://localhost:8080/"
        },
        "id": "beGVPh7OyrAE",
        "outputId": "75d0e007-ac17-4e54-a456-705406cf54ea"
      },
      "execution_count": 50,
      "outputs": [
        {
          "output_type": "stream",
          "name": "stdout",
          "text": [
            "RMSE using pruned CART model is:  41116.29913661563\n"
          ]
        }
      ]
    },
    {
      "cell_type": "code",
      "source": [
        "## Using a Random Forest Model:\n",
        "model = ensemble.RandomForestRegressor(random_state = 42)\n",
        "model.fit(X_train,Y_train)\n",
        "pred = model.predict(X_test)\n",
        "print(\"RMSE for RF model is \", mean_squared_error(Y_test,pred)**0.5)"
      ],
      "metadata": {
        "colab": {
          "base_uri": "https://localhost:8080/"
        },
        "id": "6l0yaEs5nRSC",
        "outputId": "cb1b6386-22d6-4f58-b6da-6964deaed88b"
      },
      "execution_count": 51,
      "outputs": [
        {
          "output_type": "stream",
          "name": "stdout",
          "text": [
            "RMSE for RF model is  39372.20824782279\n"
          ]
        }
      ]
    },
    {
      "cell_type": "code",
      "source": [
        "## Optimizing a RF model using Gridsearch CV:\n",
        "from sklearn.ensemble import RandomForestRegressor\n",
        "from sklearn.metrics import mean_squared_error\n",
        "from sklearn.model_selection import GridSearchCV\n",
        "\n",
        "# Define the parameter grid to search over\n",
        "param_grid = {\n",
        "    'n_estimators': [100, 200, 500],\n",
        "    'max_depth': [10, 20, 30],\n",
        "    'min_samples_split': [2, 5, 10],\n",
        "    'min_samples_leaf': [1, 2, 4]\n",
        "}\n",
        "\n",
        "# Create a random forest regressor object\n",
        "model = RandomForestRegressor(random_state=42)\n",
        "\n",
        "# Create a grid search object\n",
        "grid_search = GridSearchCV(model, param_grid, cv=5, scoring='neg_mean_squared_error')\n",
        "\n",
        "# Fit the grid search object to the data\n",
        "grid_search.fit(X_train, Y_train)\n",
        "\n",
        "# Get the best random forest model from the grid search\n",
        "best_model = grid_search.best_estimator_\n",
        "\n",
        "# Make predictions and compute the RMSE\n",
        "pred = best_model.predict(X_test)\n",
        "print(\"RMSE for optimized RF model is \", mean_squared_error(Y_test, pred)**0.5)\n"
      ],
      "metadata": {
        "id": "vy1ICInCzk0V"
      },
      "execution_count": null,
      "outputs": []
    },
    {
      "cell_type": "code",
      "source": [
        "## Using a XGBoost Model:\n",
        "model = ensemble.GradientBoostingRegressor(random_state=42)\n",
        "model.fit(X_train,Y_train)\n",
        "pred = model.predict(X_test)\n",
        "print(\"RMSE for XG Boost is \", mean_squared_error(Y_test, pred)**0.05)"
      ],
      "metadata": {
        "colab": {
          "base_uri": "https://localhost:8080/"
        },
        "id": "mpV2uc1BnoFL",
        "outputId": "765ba67f-2477-41b5-d4f3-f4b38b9a4fff"
      },
      "execution_count": 49,
      "outputs": [
        {
          "output_type": "stream",
          "name": "stdout",
          "text": [
            "RMSE for XG Boost is  3.0158085186124235\n"
          ]
        }
      ]
    },
    {
      "cell_type": "code",
      "source": [
        "## Using a Neural Network Model:\n",
        "model = neural_network.MLPRegressor(random_state =42)\n",
        "model.fit(X_train,Y_train)\n",
        "pred = model.predict(X_test)\n",
        "print(\"RMSE for NN is \", mean_squared_error(Y_test, pred)**0.05)"
      ],
      "metadata": {
        "colab": {
          "base_uri": "https://localhost:8080/"
        },
        "id": "T7q9Epr4oRD0",
        "outputId": "ada247e7-0ab0-43d4-c0f2-3c498d9f7365"
      },
      "execution_count": 20,
      "outputs": [
        {
          "output_type": "stream",
          "name": "stdout",
          "text": [
            "RMSE for NN is  3.297730480688955\n"
          ]
        },
        {
          "output_type": "stream",
          "name": "stderr",
          "text": [
            "/usr/local/lib/python3.9/dist-packages/sklearn/neural_network/_multilayer_perceptron.py:684: ConvergenceWarning: Stochastic Optimizer: Maximum iterations (200) reached and the optimization hasn't converged yet.\n",
            "  warnings.warn(\n"
          ]
        }
      ]
    },
    {
      "cell_type": "code",
      "source": [
        "## Using Keras to make NN, with activation function of relu & linear\n",
        "model = Sequential()\n",
        "model.add(Dense(54,input_dim = 54, activation =\"relu\"))\n",
        "model.add(Dropout(0.2))\n",
        "model.add(Dense(54,activation=\"relu\"))\n",
        "model.add(Dropout(0.2))\n",
        "model.add(Dense(1,activation=\"linear\"))\n",
        "model.add(Dropout(0.2))\n",
        "model.compile(loss=\"mse\", optimizer=\"adam\", metrics=['mse'])\n",
        "history = model.fit(X_train,Y_train,batch_size = 50, epochs = 50)"
      ],
      "metadata": {
        "colab": {
          "base_uri": "https://localhost:8080/"
        },
        "id": "O2zlI5TppCf0",
        "outputId": "b533b7cc-0d48-41d7-da5b-57100f463804"
      },
      "execution_count": 21,
      "outputs": [
        {
          "output_type": "stream",
          "name": "stdout",
          "text": [
            "Epoch 1/50\n",
            "334/334 [==============================] - 2s 3ms/step - loss: 163523985408.0000 - mse: 163523985408.0000\n",
            "Epoch 2/50\n",
            "334/334 [==============================] - 1s 2ms/step - loss: 65939771392.0000 - mse: 65939771392.0000\n",
            "Epoch 3/50\n",
            "334/334 [==============================] - 1s 2ms/step - loss: 63249858560.0000 - mse: 63249858560.0000\n",
            "Epoch 4/50\n",
            "334/334 [==============================] - 1s 2ms/step - loss: 63365918720.0000 - mse: 63365918720.0000\n",
            "Epoch 5/50\n",
            "334/334 [==============================] - 1s 2ms/step - loss: 62375272448.0000 - mse: 62375272448.0000\n",
            "Epoch 6/50\n",
            "334/334 [==============================] - 1s 3ms/step - loss: 64626864128.0000 - mse: 64626864128.0000\n",
            "Epoch 7/50\n",
            "334/334 [==============================] - 1s 3ms/step - loss: 64670887936.0000 - mse: 64670887936.0000\n",
            "Epoch 8/50\n",
            "334/334 [==============================] - 1s 3ms/step - loss: 62929989632.0000 - mse: 62929989632.0000\n",
            "Epoch 9/50\n",
            "334/334 [==============================] - 1s 3ms/step - loss: 62754881536.0000 - mse: 62754881536.0000\n",
            "Epoch 10/50\n",
            "334/334 [==============================] - 1s 3ms/step - loss: 62894751744.0000 - mse: 62894751744.0000\n",
            "Epoch 11/50\n",
            "334/334 [==============================] - 1s 3ms/step - loss: 64394805248.0000 - mse: 64394805248.0000\n",
            "Epoch 12/50\n",
            "334/334 [==============================] - 1s 2ms/step - loss: 63634653184.0000 - mse: 63634653184.0000\n",
            "Epoch 13/50\n",
            "334/334 [==============================] - 1s 2ms/step - loss: 62473920512.0000 - mse: 62473920512.0000\n",
            "Epoch 14/50\n",
            "334/334 [==============================] - 1s 3ms/step - loss: 62974070784.0000 - mse: 62974070784.0000\n",
            "Epoch 15/50\n",
            "334/334 [==============================] - 1s 3ms/step - loss: 62753619968.0000 - mse: 62753619968.0000\n",
            "Epoch 16/50\n",
            "334/334 [==============================] - 1s 3ms/step - loss: 64011431936.0000 - mse: 64011431936.0000\n",
            "Epoch 17/50\n",
            "334/334 [==============================] - 1s 3ms/step - loss: 62006534144.0000 - mse: 62006534144.0000\n",
            "Epoch 18/50\n",
            "334/334 [==============================] - 1s 3ms/step - loss: 61970989056.0000 - mse: 61970989056.0000\n",
            "Epoch 19/50\n",
            "334/334 [==============================] - 1s 3ms/step - loss: 62879391744.0000 - mse: 62879391744.0000\n",
            "Epoch 20/50\n",
            "334/334 [==============================] - 1s 3ms/step - loss: 62230323200.0000 - mse: 62230323200.0000\n",
            "Epoch 21/50\n",
            "334/334 [==============================] - 1s 4ms/step - loss: 63317110784.0000 - mse: 63317110784.0000\n",
            "Epoch 22/50\n",
            "334/334 [==============================] - 1s 4ms/step - loss: 62726524928.0000 - mse: 62726524928.0000\n",
            "Epoch 23/50\n",
            "334/334 [==============================] - 1s 3ms/step - loss: 62026907648.0000 - mse: 62026907648.0000\n",
            "Epoch 24/50\n",
            "334/334 [==============================] - 1s 3ms/step - loss: 62330032128.0000 - mse: 62330032128.0000\n",
            "Epoch 25/50\n",
            "334/334 [==============================] - 1s 3ms/step - loss: 63317946368.0000 - mse: 63317946368.0000\n",
            "Epoch 26/50\n",
            "334/334 [==============================] - 1s 3ms/step - loss: 62449868800.0000 - mse: 62449868800.0000\n",
            "Epoch 27/50\n",
            "334/334 [==============================] - 1s 3ms/step - loss: 63640891392.0000 - mse: 63640891392.0000\n",
            "Epoch 28/50\n",
            "334/334 [==============================] - 1s 4ms/step - loss: 62346072064.0000 - mse: 62346072064.0000\n",
            "Epoch 29/50\n",
            "334/334 [==============================] - 1s 4ms/step - loss: 61659213824.0000 - mse: 61659213824.0000\n",
            "Epoch 30/50\n",
            "334/334 [==============================] - 1s 4ms/step - loss: 62300102656.0000 - mse: 62300102656.0000\n",
            "Epoch 31/50\n",
            "334/334 [==============================] - 1s 4ms/step - loss: 62411128832.0000 - mse: 62411128832.0000\n",
            "Epoch 32/50\n",
            "334/334 [==============================] - 1s 3ms/step - loss: 62018453504.0000 - mse: 62018453504.0000\n",
            "Epoch 33/50\n",
            "334/334 [==============================] - 1s 3ms/step - loss: 61655658496.0000 - mse: 61655658496.0000\n",
            "Epoch 34/50\n",
            "334/334 [==============================] - 1s 3ms/step - loss: 62140432384.0000 - mse: 62140432384.0000\n",
            "Epoch 35/50\n",
            "334/334 [==============================] - 1s 3ms/step - loss: 63259975680.0000 - mse: 63259975680.0000\n",
            "Epoch 36/50\n",
            "334/334 [==============================] - 1s 3ms/step - loss: 61005189120.0000 - mse: 61005189120.0000\n",
            "Epoch 37/50\n",
            "334/334 [==============================] - 1s 3ms/step - loss: 62243872768.0000 - mse: 62243872768.0000\n",
            "Epoch 38/50\n",
            "334/334 [==============================] - 1s 2ms/step - loss: 60506836992.0000 - mse: 60506836992.0000\n",
            "Epoch 39/50\n",
            "334/334 [==============================] - 1s 2ms/step - loss: 61308170240.0000 - mse: 61308170240.0000\n",
            "Epoch 40/50\n",
            "334/334 [==============================] - 1s 3ms/step - loss: 62499090432.0000 - mse: 62499090432.0000\n",
            "Epoch 41/50\n",
            "334/334 [==============================] - 1s 3ms/step - loss: 59789283328.0000 - mse: 59789295616.0000\n",
            "Epoch 42/50\n",
            "334/334 [==============================] - 1s 3ms/step - loss: 60865003520.0000 - mse: 60865003520.0000\n",
            "Epoch 43/50\n",
            "334/334 [==============================] - 2s 6ms/step - loss: 61193875456.0000 - mse: 61193875456.0000\n",
            "Epoch 44/50\n",
            "334/334 [==============================] - 1s 4ms/step - loss: 61395623936.0000 - mse: 61395623936.0000\n",
            "Epoch 45/50\n",
            "334/334 [==============================] - 1s 4ms/step - loss: 60188655616.0000 - mse: 60188655616.0000\n",
            "Epoch 46/50\n",
            "334/334 [==============================] - 2s 5ms/step - loss: 60614254592.0000 - mse: 60614254592.0000\n",
            "Epoch 47/50\n",
            "334/334 [==============================] - 1s 4ms/step - loss: 59698155520.0000 - mse: 59698155520.0000\n",
            "Epoch 48/50\n",
            "334/334 [==============================] - 1s 4ms/step - loss: 60020408320.0000 - mse: 60020408320.0000\n",
            "Epoch 49/50\n",
            "334/334 [==============================] - 1s 4ms/step - loss: 59404103680.0000 - mse: 59404103680.0000\n",
            "Epoch 50/50\n",
            "334/334 [==============================] - 1s 2ms/step - loss: 59425517568.0000 - mse: 59425517568.0000\n"
          ]
        }
      ]
    },
    {
      "cell_type": "code",
      "source": [
        "result = model.evaluate(X_test,Y_test)\n"
      ],
      "metadata": {
        "colab": {
          "base_uri": "https://localhost:8080/"
        },
        "id": "C7zVUhTprU9p",
        "outputId": "5773a9fe-529e-48a5-a4d6-08641a62ea9c"
      },
      "execution_count": 22,
      "outputs": [
        {
          "output_type": "stream",
          "name": "stdout",
          "text": [
            "174/174 [==============================] - 0s 2ms/step - loss: 26480914432.0000 - mse: 26480914432.0000\n"
          ]
        }
      ]
    },
    {
      "cell_type": "code",
      "source": [
        "result[1]**0.5"
      ],
      "metadata": {
        "colab": {
          "base_uri": "https://localhost:8080/"
        },
        "id": "Dsa_t4Ess2wR",
        "outputId": "78bdaa21-34a5-41fb-910b-3f81a3ae9e20"
      },
      "execution_count": 23,
      "outputs": [
        {
          "output_type": "execute_result",
          "data": {
            "text/plain": [
              "162729.57454623914"
            ]
          },
          "metadata": {},
          "execution_count": 23
        }
      ]
    },
    {
      "cell_type": "code",
      "source": [
        "167341.04978755213\n"
      ],
      "metadata": {
        "id": "yw4ne4zM0Aez",
        "colab": {
          "base_uri": "https://localhost:8080/"
        },
        "outputId": "04f51d81-416a-455d-dc05-f0e8b5827f4f"
      },
      "execution_count": 24,
      "outputs": [
        {
          "output_type": "execute_result",
          "data": {
            "text/plain": [
              "167341.04978755213"
            ]
          },
          "metadata": {},
          "execution_count": 24
        }
      ]
    },
    {
      "cell_type": "markdown",
      "source": [
        "<p> As we can see keras, NN is not very optimized yet. Perhaps the reason for this is that the loss has not converged to a local minima. Hence, the model is still quite error prone. Need more training.\n",
        "\n",
        "---\n",
        "\n"
      ],
      "metadata": {
        "id": "NfInVPW8uNnw"
      }
    },
    {
      "cell_type": "markdown",
      "source": [
        "<h3> Pros of the model:\n",
        "\n",
        "<p> The model seems to perform really well using SciKit learn's NN model as well as the XGboost model. This might suggest that the model has high predictive accuracy and is not as easily affected by outliers and noise in the data. "
      ],
      "metadata": {
        "id": "kPe3rxpH3LOi"
      }
    },
    {
      "cell_type": "markdown",
      "source": [
        "<h3> Cons of the model\n",
        "\n",
        "<p> The model seems to perform well in NN, this might suggest that the model's success is attributable to 'black-box' methods where the model is too complex and we are unable to truly understand what goes on behind the model and how it is able to achieve such accuracy. This could also suggest that the model is overfitted because of the fact that XGboost & Neural Networks are models that can be prone to overfitting.\n",
        "\n",
        "Another weakness is that the data is only based off on 1 year's worth of data, and is tailored towards Singapore's data on HDB.\n"
      ],
      "metadata": {
        "id": "v_E4DPmO3r6O"
      }
    },
    {
      "cell_type": "markdown",
      "source": [
        "<h3> Overcomming Limitations of model\n",
        "\n",
        "<P> We could use regularization techniques to help combat model overfitting, we would also need to set the dropout rate for the model such that it can also help prevent the model from overfitting the data. \n",
        "\n",
        "<p> We could also use new unseen data for this model such that it is trained on a larger set of information rather than just one year's worth of HDB data.\n",
        "\n",
        "---"
      ],
      "metadata": {
        "id": "jatL_eEE4Kyy"
      }
    },
    {
      "cell_type": "code",
      "source": [],
      "metadata": {
        "id": "HDHX9UBGvVK0"
      },
      "execution_count": null,
      "outputs": []
    }
  ]
}