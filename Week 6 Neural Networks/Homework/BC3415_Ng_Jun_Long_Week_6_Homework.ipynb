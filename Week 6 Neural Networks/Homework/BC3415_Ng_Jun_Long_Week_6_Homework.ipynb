{
  "cells": [
    {
      "cell_type": "code",
      "execution_count": 30,
      "metadata": {
        "id": "C2W1hBilZxyy"
      },
      "outputs": [],
      "source": [
        "import pandas as pd\n",
        "import matplotlib.pyplot as plt\n",
        "import numpy as np\n",
        "import seaborn as sns\n",
        "from scipy import stats\n",
        "from sklearn import linear_model\n",
        "from sklearn import tree\n",
        "from sklearn import ensemble\n",
        "from sklearn import neural_network\n",
        "from sklearn.preprocessing import StandardScaler\n",
        "from sklearn.metrics import confusion_matrix\n",
        "from sklearn.metrics import mean_squared_error\n",
        "from sklearn.model_selection import GridSearchCV\n",
        "from sklearn.model_selection import train_test_split\n",
        "from keras.models import Sequential\n",
        "from keras.layers import Dense, Dropout"
      ]
    },
    {
      "cell_type": "code",
      "execution_count": 2,
      "metadata": {
        "colab": {
          "base_uri": "https://localhost:8080/"
        },
        "id": "g6rpolRganF-",
        "outputId": "20984a0d-5494-41eb-f9ea-ed1599dac327"
      },
      "outputs": [
        {
          "name": "stdout",
          "output_type": "stream",
          "text": [
            "Drive already mounted at /content/drive; to attempt to forcibly remount, call drive.mount(\"/content/drive\", force_remount=True).\n"
          ]
        }
      ],
      "source": [
        "## Importing the dataset: \n",
        "from google.colab import drive\n",
        "drive.mount('/content/drive')\n",
        "df = pd.read_csv(\"/content/drive/MyDrive/Colab Notebooks/Datasets/ResaleFlatPrice.csv\")\n",
        "\n",
        "\n",
        "\n",
        "\n",
        "## If done on local machine, uncomment this line of code:\n",
        "## df = pd.read_csv(\"/Users/junlongng/Desktop/NTU/Year_2/Semester 2/BC3415 AI in ACC & Finance/Week 4 Regression/Homework/Loan Default (Employed).csv\")\n"
      ]
    },
    {
      "cell_type": "code",
      "execution_count": 3,
      "metadata": {
        "colab": {
          "base_uri": "https://localhost:8080/"
        },
        "id": "Df_jA8yMb9oN",
        "outputId": "a3368bdf-eb36-4672-aa3c-da2d4d0f05dd"
      },
      "outputs": [
        {
          "data": {
            "text/plain": [
              "Index(['month', 'town', 'flat_type', 'block', 'street_name', 'storey_range',\n",
              "       'floor_area_sqm', 'flat_model', 'lease_commence_date',\n",
              "       'remaining_lease', 'resale_price'],\n",
              "      dtype='object')"
            ]
          },
          "execution_count": 3,
          "metadata": {},
          "output_type": "execute_result"
        }
      ],
      "source": [
        "df.columns"
      ]
    },
    {
      "cell_type": "code",
      "execution_count": 4,
      "metadata": {
        "colab": {
          "base_uri": "https://localhost:8080/"
        },
        "id": "ZI5NqOD8cFhX",
        "outputId": "c28bae4d-078a-4128-a274-7bd99986db84"
      },
      "outputs": [
        {
          "data": {
            "text/plain": [
              "month                  False\n",
              "town                   False\n",
              "flat_type              False\n",
              "block                  False\n",
              "street_name            False\n",
              "storey_range           False\n",
              "floor_area_sqm         False\n",
              "flat_model             False\n",
              "lease_commence_date    False\n",
              "remaining_lease        False\n",
              "resale_price           False\n",
              "dtype: bool"
            ]
          },
          "execution_count": 4,
          "metadata": {},
          "output_type": "execute_result"
        }
      ],
      "source": [
        "## Checking for null values\n",
        "df.isnull().any()"
      ]
    },
    {
      "cell_type": "code",
      "execution_count": 5,
      "metadata": {
        "colab": {
          "base_uri": "https://localhost:8080/"
        },
        "id": "qigm8jBNcKZ2",
        "outputId": "ecca3083-bb39-4a5c-936a-2fff88a23f25"
      },
      "outputs": [
        {
          "data": {
            "text/plain": [
              "Model A                   7664\n",
              "Improved                  5560\n",
              "New Generation            3056\n",
              "Premium Apartment         2122\n",
              "Simplified                 930\n",
              "Apartment                  816\n",
              "Maisonette                 662\n",
              "Standard                   647\n",
              "DBSS                       310\n",
              "Model A2                   254\n",
              "Model A-Maisonette          46\n",
              "Adjoined flat               46\n",
              "Type S1                     37\n",
              "Type S2                     16\n",
              "Terrace                     14\n",
              "Multi Generation            14\n",
              "Premium Apartment Loft       4\n",
              "Premium Maisonette           4\n",
              "Improved-Maisonette          2\n",
              "Name: flat_model, dtype: int64"
            ]
          },
          "execution_count": 5,
          "metadata": {},
          "output_type": "execute_result"
        }
      ],
      "source": [
        "df[\"flat_model\"].value_counts()"
      ]
    },
    {
      "cell_type": "code",
      "execution_count": 6,
      "metadata": {
        "id": "LFVvZNbecU-n"
      },
      "outputs": [],
      "source": [
        "df = df.loc[:, ['town', 'flat_type','floor_area_sqm','flat_model', 'lease_commence_date', \"resale_price\"]]"
      ]
    },
    {
      "cell_type": "code",
      "execution_count": 7,
      "metadata": {
        "colab": {
          "base_uri": "https://localhost:8080/",
          "height": 424
        },
        "id": "pDx3w4qJcWxZ",
        "outputId": "10c1a67b-c9c6-42bc-8dbe-bb3ef004bd4e"
      },
      "outputs": [
        {
          "data": {
            "text/html": [
              "\n",
              "  <div id=\"df-957348cf-96c5-4166-9055-1332d3e483a8\">\n",
              "    <div class=\"colab-df-container\">\n",
              "      <div>\n",
              "<style scoped>\n",
              "    .dataframe tbody tr th:only-of-type {\n",
              "        vertical-align: middle;\n",
              "    }\n",
              "\n",
              "    .dataframe tbody tr th {\n",
              "        vertical-align: top;\n",
              "    }\n",
              "\n",
              "    .dataframe thead th {\n",
              "        text-align: right;\n",
              "    }\n",
              "</style>\n",
              "<table border=\"1\" class=\"dataframe\">\n",
              "  <thead>\n",
              "    <tr style=\"text-align: right;\">\n",
              "      <th></th>\n",
              "      <th>town</th>\n",
              "      <th>flat_type</th>\n",
              "      <th>floor_area_sqm</th>\n",
              "      <th>flat_model</th>\n",
              "      <th>lease_commence_date</th>\n",
              "      <th>resale_price</th>\n",
              "    </tr>\n",
              "  </thead>\n",
              "  <tbody>\n",
              "    <tr>\n",
              "      <th>0</th>\n",
              "      <td>ANG MO KIO</td>\n",
              "      <td>3 ROOM</td>\n",
              "      <td>68.0</td>\n",
              "      <td>New Generation</td>\n",
              "      <td>1981</td>\n",
              "      <td>270000.0</td>\n",
              "    </tr>\n",
              "    <tr>\n",
              "      <th>1</th>\n",
              "      <td>ANG MO KIO</td>\n",
              "      <td>3 ROOM</td>\n",
              "      <td>73.0</td>\n",
              "      <td>New Generation</td>\n",
              "      <td>1976</td>\n",
              "      <td>295000.0</td>\n",
              "    </tr>\n",
              "    <tr>\n",
              "      <th>2</th>\n",
              "      <td>ANG MO KIO</td>\n",
              "      <td>3 ROOM</td>\n",
              "      <td>67.0</td>\n",
              "      <td>New Generation</td>\n",
              "      <td>1978</td>\n",
              "      <td>270000.0</td>\n",
              "    </tr>\n",
              "    <tr>\n",
              "      <th>3</th>\n",
              "      <td>ANG MO KIO</td>\n",
              "      <td>3 ROOM</td>\n",
              "      <td>67.0</td>\n",
              "      <td>New Generation</td>\n",
              "      <td>1978</td>\n",
              "      <td>230000.0</td>\n",
              "    </tr>\n",
              "    <tr>\n",
              "      <th>4</th>\n",
              "      <td>ANG MO KIO</td>\n",
              "      <td>3 ROOM</td>\n",
              "      <td>68.0</td>\n",
              "      <td>New Generation</td>\n",
              "      <td>1981</td>\n",
              "      <td>262500.0</td>\n",
              "    </tr>\n",
              "    <tr>\n",
              "      <th>...</th>\n",
              "      <td>...</td>\n",
              "      <td>...</td>\n",
              "      <td>...</td>\n",
              "      <td>...</td>\n",
              "      <td>...</td>\n",
              "      <td>...</td>\n",
              "    </tr>\n",
              "    <tr>\n",
              "      <th>22199</th>\n",
              "      <td>YISHUN</td>\n",
              "      <td>EXECUTIVE</td>\n",
              "      <td>142.0</td>\n",
              "      <td>Apartment</td>\n",
              "      <td>1988</td>\n",
              "      <td>580000.0</td>\n",
              "    </tr>\n",
              "    <tr>\n",
              "      <th>22200</th>\n",
              "      <td>YISHUN</td>\n",
              "      <td>EXECUTIVE</td>\n",
              "      <td>146.0</td>\n",
              "      <td>Maisonette</td>\n",
              "      <td>1988</td>\n",
              "      <td>565000.0</td>\n",
              "    </tr>\n",
              "    <tr>\n",
              "      <th>22201</th>\n",
              "      <td>YISHUN</td>\n",
              "      <td>EXECUTIVE</td>\n",
              "      <td>164.0</td>\n",
              "      <td>Apartment</td>\n",
              "      <td>1992</td>\n",
              "      <td>633000.0</td>\n",
              "    </tr>\n",
              "    <tr>\n",
              "      <th>22202</th>\n",
              "      <td>YISHUN</td>\n",
              "      <td>EXECUTIVE</td>\n",
              "      <td>164.0</td>\n",
              "      <td>Apartment</td>\n",
              "      <td>1992</td>\n",
              "      <td>788888.0</td>\n",
              "    </tr>\n",
              "    <tr>\n",
              "      <th>22203</th>\n",
              "      <td>YISHUN</td>\n",
              "      <td>EXECUTIVE</td>\n",
              "      <td>145.0</td>\n",
              "      <td>Maisonette</td>\n",
              "      <td>1987</td>\n",
              "      <td>618000.0</td>\n",
              "    </tr>\n",
              "  </tbody>\n",
              "</table>\n",
              "<p>22204 rows × 6 columns</p>\n",
              "</div>\n",
              "      <button class=\"colab-df-convert\" onclick=\"convertToInteractive('df-957348cf-96c5-4166-9055-1332d3e483a8')\"\n",
              "              title=\"Convert this dataframe to an interactive table.\"\n",
              "              style=\"display:none;\">\n",
              "        \n",
              "  <svg xmlns=\"http://www.w3.org/2000/svg\" height=\"24px\"viewBox=\"0 0 24 24\"\n",
              "       width=\"24px\">\n",
              "    <path d=\"M0 0h24v24H0V0z\" fill=\"none\"/>\n",
              "    <path d=\"M18.56 5.44l.94 2.06.94-2.06 2.06-.94-2.06-.94-.94-2.06-.94 2.06-2.06.94zm-11 1L8.5 8.5l.94-2.06 2.06-.94-2.06-.94L8.5 2.5l-.94 2.06-2.06.94zm10 10l.94 2.06.94-2.06 2.06-.94-2.06-.94-.94-2.06-.94 2.06-2.06.94z\"/><path d=\"M17.41 7.96l-1.37-1.37c-.4-.4-.92-.59-1.43-.59-.52 0-1.04.2-1.43.59L10.3 9.45l-7.72 7.72c-.78.78-.78 2.05 0 2.83L4 21.41c.39.39.9.59 1.41.59.51 0 1.02-.2 1.41-.59l7.78-7.78 2.81-2.81c.8-.78.8-2.07 0-2.86zM5.41 20L4 18.59l7.72-7.72 1.47 1.35L5.41 20z\"/>\n",
              "  </svg>\n",
              "      </button>\n",
              "      \n",
              "  <style>\n",
              "    .colab-df-container {\n",
              "      display:flex;\n",
              "      flex-wrap:wrap;\n",
              "      gap: 12px;\n",
              "    }\n",
              "\n",
              "    .colab-df-convert {\n",
              "      background-color: #E8F0FE;\n",
              "      border: none;\n",
              "      border-radius: 50%;\n",
              "      cursor: pointer;\n",
              "      display: none;\n",
              "      fill: #1967D2;\n",
              "      height: 32px;\n",
              "      padding: 0 0 0 0;\n",
              "      width: 32px;\n",
              "    }\n",
              "\n",
              "    .colab-df-convert:hover {\n",
              "      background-color: #E2EBFA;\n",
              "      box-shadow: 0px 1px 2px rgba(60, 64, 67, 0.3), 0px 1px 3px 1px rgba(60, 64, 67, 0.15);\n",
              "      fill: #174EA6;\n",
              "    }\n",
              "\n",
              "    [theme=dark] .colab-df-convert {\n",
              "      background-color: #3B4455;\n",
              "      fill: #D2E3FC;\n",
              "    }\n",
              "\n",
              "    [theme=dark] .colab-df-convert:hover {\n",
              "      background-color: #434B5C;\n",
              "      box-shadow: 0px 1px 3px 1px rgba(0, 0, 0, 0.15);\n",
              "      filter: drop-shadow(0px 1px 2px rgba(0, 0, 0, 0.3));\n",
              "      fill: #FFFFFF;\n",
              "    }\n",
              "  </style>\n",
              "\n",
              "      <script>\n",
              "        const buttonEl =\n",
              "          document.querySelector('#df-957348cf-96c5-4166-9055-1332d3e483a8 button.colab-df-convert');\n",
              "        buttonEl.style.display =\n",
              "          google.colab.kernel.accessAllowed ? 'block' : 'none';\n",
              "\n",
              "        async function convertToInteractive(key) {\n",
              "          const element = document.querySelector('#df-957348cf-96c5-4166-9055-1332d3e483a8');\n",
              "          const dataTable =\n",
              "            await google.colab.kernel.invokeFunction('convertToInteractive',\n",
              "                                                     [key], {});\n",
              "          if (!dataTable) return;\n",
              "\n",
              "          const docLinkHtml = 'Like what you see? Visit the ' +\n",
              "            '<a target=\"_blank\" href=https://colab.research.google.com/notebooks/data_table.ipynb>data table notebook</a>'\n",
              "            + ' to learn more about interactive tables.';\n",
              "          element.innerHTML = '';\n",
              "          dataTable['output_type'] = 'display_data';\n",
              "          await google.colab.output.renderOutput(dataTable, element);\n",
              "          const docLink = document.createElement('div');\n",
              "          docLink.innerHTML = docLinkHtml;\n",
              "          element.appendChild(docLink);\n",
              "        }\n",
              "      </script>\n",
              "    </div>\n",
              "  </div>\n",
              "  "
            ],
            "text/plain": [
              "             town  flat_type  floor_area_sqm      flat_model  \\\n",
              "0      ANG MO KIO     3 ROOM            68.0  New Generation   \n",
              "1      ANG MO KIO     3 ROOM            73.0  New Generation   \n",
              "2      ANG MO KIO     3 ROOM            67.0  New Generation   \n",
              "3      ANG MO KIO     3 ROOM            67.0  New Generation   \n",
              "4      ANG MO KIO     3 ROOM            68.0  New Generation   \n",
              "...           ...        ...             ...             ...   \n",
              "22199      YISHUN  EXECUTIVE           142.0       Apartment   \n",
              "22200      YISHUN  EXECUTIVE           146.0      Maisonette   \n",
              "22201      YISHUN  EXECUTIVE           164.0       Apartment   \n",
              "22202      YISHUN  EXECUTIVE           164.0       Apartment   \n",
              "22203      YISHUN  EXECUTIVE           145.0      Maisonette   \n",
              "\n",
              "       lease_commence_date  resale_price  \n",
              "0                     1981      270000.0  \n",
              "1                     1976      295000.0  \n",
              "2                     1978      270000.0  \n",
              "3                     1978      230000.0  \n",
              "4                     1981      262500.0  \n",
              "...                    ...           ...  \n",
              "22199                 1988      580000.0  \n",
              "22200                 1988      565000.0  \n",
              "22201                 1992      633000.0  \n",
              "22202                 1992      788888.0  \n",
              "22203                 1987      618000.0  \n",
              "\n",
              "[22204 rows x 6 columns]"
            ]
          },
          "execution_count": 7,
          "metadata": {},
          "output_type": "execute_result"
        }
      ],
      "source": [
        "df"
      ]
    },
    {
      "cell_type": "code",
      "execution_count": 8,
      "metadata": {
        "id": "LPxe9eiMcYLz"
      },
      "outputs": [],
      "source": [
        "## Normalizing Z score value for floor area / SQM\n",
        "df['floor_area_sqm'] = stats.zscore(df['floor_area_sqm'])"
      ]
    },
    {
      "cell_type": "code",
      "execution_count": 9,
      "metadata": {
        "id": "Bgn55Bi0kUeZ"
      },
      "outputs": [],
      "source": [
        "## Encoding variables\n",
        "d = pd.get_dummies(df['town'])\n",
        "df = df.merge(d,left_index=True, right_index = True).drop(columns =\"town\")"
      ]
    },
    {
      "cell_type": "code",
      "execution_count": 10,
      "metadata": {
        "id": "TXboishXmn5R"
      },
      "outputs": [],
      "source": [
        "d = pd.get_dummies(df['flat_model'])\n",
        "df = df.merge(d,left_index=True, right_index = True).drop(columns =\"flat_model\")"
      ]
    },
    {
      "cell_type": "code",
      "execution_count": 11,
      "metadata": {
        "id": "dRu04cV5ksvQ"
      },
      "outputs": [],
      "source": [
        "d = pd.get_dummies(df['flat_type'])\n",
        "df = df.merge(d,left_index=True, right_index=True).drop(columns = \"flat_type\")"
      ]
    },
    {
      "cell_type": "code",
      "execution_count": 12,
      "metadata": {
        "colab": {
          "base_uri": "https://localhost:8080/",
          "height": 334
        },
        "id": "LlZg5Eq8k39k",
        "outputId": "e792c3a6-d76a-4aaf-840e-c10cadf33cee"
      },
      "outputs": [
        {
          "data": {
            "text/html": [
              "\n",
              "  <div id=\"df-6940ff20-5e57-41f0-95bb-c887b15e8308\">\n",
              "    <div class=\"colab-df-container\">\n",
              "      <div>\n",
              "<style scoped>\n",
              "    .dataframe tbody tr th:only-of-type {\n",
              "        vertical-align: middle;\n",
              "    }\n",
              "\n",
              "    .dataframe tbody tr th {\n",
              "        vertical-align: top;\n",
              "    }\n",
              "\n",
              "    .dataframe thead th {\n",
              "        text-align: right;\n",
              "    }\n",
              "</style>\n",
              "<table border=\"1\" class=\"dataframe\">\n",
              "  <thead>\n",
              "    <tr style=\"text-align: right;\">\n",
              "      <th></th>\n",
              "      <th>floor_area_sqm</th>\n",
              "      <th>lease_commence_date</th>\n",
              "      <th>resale_price</th>\n",
              "      <th>ANG MO KIO</th>\n",
              "      <th>BEDOK</th>\n",
              "      <th>BISHAN</th>\n",
              "      <th>BUKIT BATOK</th>\n",
              "      <th>BUKIT MERAH</th>\n",
              "      <th>BUKIT PANJANG</th>\n",
              "      <th>BUKIT TIMAH</th>\n",
              "      <th>...</th>\n",
              "      <th>Terrace</th>\n",
              "      <th>Type S1</th>\n",
              "      <th>Type S2</th>\n",
              "      <th>1 ROOM</th>\n",
              "      <th>2 ROOM</th>\n",
              "      <th>3 ROOM</th>\n",
              "      <th>4 ROOM</th>\n",
              "      <th>5 ROOM</th>\n",
              "      <th>EXECUTIVE</th>\n",
              "      <th>MULTI-GENERATION</th>\n",
              "    </tr>\n",
              "  </thead>\n",
              "  <tbody>\n",
              "    <tr>\n",
              "      <th>0</th>\n",
              "      <td>-1.193788</td>\n",
              "      <td>1981</td>\n",
              "      <td>270000.0</td>\n",
              "      <td>1</td>\n",
              "      <td>0</td>\n",
              "      <td>0</td>\n",
              "      <td>0</td>\n",
              "      <td>0</td>\n",
              "      <td>0</td>\n",
              "      <td>0</td>\n",
              "      <td>...</td>\n",
              "      <td>0</td>\n",
              "      <td>0</td>\n",
              "      <td>0</td>\n",
              "      <td>0</td>\n",
              "      <td>0</td>\n",
              "      <td>1</td>\n",
              "      <td>0</td>\n",
              "      <td>0</td>\n",
              "      <td>0</td>\n",
              "      <td>0</td>\n",
              "    </tr>\n",
              "    <tr>\n",
              "      <th>1</th>\n",
              "      <td>-0.988498</td>\n",
              "      <td>1976</td>\n",
              "      <td>295000.0</td>\n",
              "      <td>1</td>\n",
              "      <td>0</td>\n",
              "      <td>0</td>\n",
              "      <td>0</td>\n",
              "      <td>0</td>\n",
              "      <td>0</td>\n",
              "      <td>0</td>\n",
              "      <td>...</td>\n",
              "      <td>0</td>\n",
              "      <td>0</td>\n",
              "      <td>0</td>\n",
              "      <td>0</td>\n",
              "      <td>0</td>\n",
              "      <td>1</td>\n",
              "      <td>0</td>\n",
              "      <td>0</td>\n",
              "      <td>0</td>\n",
              "      <td>0</td>\n",
              "    </tr>\n",
              "    <tr>\n",
              "      <th>2</th>\n",
              "      <td>-1.234846</td>\n",
              "      <td>1978</td>\n",
              "      <td>270000.0</td>\n",
              "      <td>1</td>\n",
              "      <td>0</td>\n",
              "      <td>0</td>\n",
              "      <td>0</td>\n",
              "      <td>0</td>\n",
              "      <td>0</td>\n",
              "      <td>0</td>\n",
              "      <td>...</td>\n",
              "      <td>0</td>\n",
              "      <td>0</td>\n",
              "      <td>0</td>\n",
              "      <td>0</td>\n",
              "      <td>0</td>\n",
              "      <td>1</td>\n",
              "      <td>0</td>\n",
              "      <td>0</td>\n",
              "      <td>0</td>\n",
              "      <td>0</td>\n",
              "    </tr>\n",
              "    <tr>\n",
              "      <th>3</th>\n",
              "      <td>-1.234846</td>\n",
              "      <td>1978</td>\n",
              "      <td>230000.0</td>\n",
              "      <td>1</td>\n",
              "      <td>0</td>\n",
              "      <td>0</td>\n",
              "      <td>0</td>\n",
              "      <td>0</td>\n",
              "      <td>0</td>\n",
              "      <td>0</td>\n",
              "      <td>...</td>\n",
              "      <td>0</td>\n",
              "      <td>0</td>\n",
              "      <td>0</td>\n",
              "      <td>0</td>\n",
              "      <td>0</td>\n",
              "      <td>1</td>\n",
              "      <td>0</td>\n",
              "      <td>0</td>\n",
              "      <td>0</td>\n",
              "      <td>0</td>\n",
              "    </tr>\n",
              "    <tr>\n",
              "      <th>4</th>\n",
              "      <td>-1.193788</td>\n",
              "      <td>1981</td>\n",
              "      <td>262500.0</td>\n",
              "      <td>1</td>\n",
              "      <td>0</td>\n",
              "      <td>0</td>\n",
              "      <td>0</td>\n",
              "      <td>0</td>\n",
              "      <td>0</td>\n",
              "      <td>0</td>\n",
              "      <td>...</td>\n",
              "      <td>0</td>\n",
              "      <td>0</td>\n",
              "      <td>0</td>\n",
              "      <td>0</td>\n",
              "      <td>0</td>\n",
              "      <td>1</td>\n",
              "      <td>0</td>\n",
              "      <td>0</td>\n",
              "      <td>0</td>\n",
              "      <td>0</td>\n",
              "    </tr>\n",
              "  </tbody>\n",
              "</table>\n",
              "<p>5 rows × 55 columns</p>\n",
              "</div>\n",
              "      <button class=\"colab-df-convert\" onclick=\"convertToInteractive('df-6940ff20-5e57-41f0-95bb-c887b15e8308')\"\n",
              "              title=\"Convert this dataframe to an interactive table.\"\n",
              "              style=\"display:none;\">\n",
              "        \n",
              "  <svg xmlns=\"http://www.w3.org/2000/svg\" height=\"24px\"viewBox=\"0 0 24 24\"\n",
              "       width=\"24px\">\n",
              "    <path d=\"M0 0h24v24H0V0z\" fill=\"none\"/>\n",
              "    <path d=\"M18.56 5.44l.94 2.06.94-2.06 2.06-.94-2.06-.94-.94-2.06-.94 2.06-2.06.94zm-11 1L8.5 8.5l.94-2.06 2.06-.94-2.06-.94L8.5 2.5l-.94 2.06-2.06.94zm10 10l.94 2.06.94-2.06 2.06-.94-2.06-.94-.94-2.06-.94 2.06-2.06.94z\"/><path d=\"M17.41 7.96l-1.37-1.37c-.4-.4-.92-.59-1.43-.59-.52 0-1.04.2-1.43.59L10.3 9.45l-7.72 7.72c-.78.78-.78 2.05 0 2.83L4 21.41c.39.39.9.59 1.41.59.51 0 1.02-.2 1.41-.59l7.78-7.78 2.81-2.81c.8-.78.8-2.07 0-2.86zM5.41 20L4 18.59l7.72-7.72 1.47 1.35L5.41 20z\"/>\n",
              "  </svg>\n",
              "      </button>\n",
              "      \n",
              "  <style>\n",
              "    .colab-df-container {\n",
              "      display:flex;\n",
              "      flex-wrap:wrap;\n",
              "      gap: 12px;\n",
              "    }\n",
              "\n",
              "    .colab-df-convert {\n",
              "      background-color: #E8F0FE;\n",
              "      border: none;\n",
              "      border-radius: 50%;\n",
              "      cursor: pointer;\n",
              "      display: none;\n",
              "      fill: #1967D2;\n",
              "      height: 32px;\n",
              "      padding: 0 0 0 0;\n",
              "      width: 32px;\n",
              "    }\n",
              "\n",
              "    .colab-df-convert:hover {\n",
              "      background-color: #E2EBFA;\n",
              "      box-shadow: 0px 1px 2px rgba(60, 64, 67, 0.3), 0px 1px 3px 1px rgba(60, 64, 67, 0.15);\n",
              "      fill: #174EA6;\n",
              "    }\n",
              "\n",
              "    [theme=dark] .colab-df-convert {\n",
              "      background-color: #3B4455;\n",
              "      fill: #D2E3FC;\n",
              "    }\n",
              "\n",
              "    [theme=dark] .colab-df-convert:hover {\n",
              "      background-color: #434B5C;\n",
              "      box-shadow: 0px 1px 3px 1px rgba(0, 0, 0, 0.15);\n",
              "      filter: drop-shadow(0px 1px 2px rgba(0, 0, 0, 0.3));\n",
              "      fill: #FFFFFF;\n",
              "    }\n",
              "  </style>\n",
              "\n",
              "      <script>\n",
              "        const buttonEl =\n",
              "          document.querySelector('#df-6940ff20-5e57-41f0-95bb-c887b15e8308 button.colab-df-convert');\n",
              "        buttonEl.style.display =\n",
              "          google.colab.kernel.accessAllowed ? 'block' : 'none';\n",
              "\n",
              "        async function convertToInteractive(key) {\n",
              "          const element = document.querySelector('#df-6940ff20-5e57-41f0-95bb-c887b15e8308');\n",
              "          const dataTable =\n",
              "            await google.colab.kernel.invokeFunction('convertToInteractive',\n",
              "                                                     [key], {});\n",
              "          if (!dataTable) return;\n",
              "\n",
              "          const docLinkHtml = 'Like what you see? Visit the ' +\n",
              "            '<a target=\"_blank\" href=https://colab.research.google.com/notebooks/data_table.ipynb>data table notebook</a>'\n",
              "            + ' to learn more about interactive tables.';\n",
              "          element.innerHTML = '';\n",
              "          dataTable['output_type'] = 'display_data';\n",
              "          await google.colab.output.renderOutput(dataTable, element);\n",
              "          const docLink = document.createElement('div');\n",
              "          docLink.innerHTML = docLinkHtml;\n",
              "          element.appendChild(docLink);\n",
              "        }\n",
              "      </script>\n",
              "    </div>\n",
              "  </div>\n",
              "  "
            ],
            "text/plain": [
              "   floor_area_sqm  lease_commence_date  resale_price  ANG MO KIO  BEDOK  \\\n",
              "0       -1.193788                 1981      270000.0           1      0   \n",
              "1       -0.988498                 1976      295000.0           1      0   \n",
              "2       -1.234846                 1978      270000.0           1      0   \n",
              "3       -1.234846                 1978      230000.0           1      0   \n",
              "4       -1.193788                 1981      262500.0           1      0   \n",
              "\n",
              "   BISHAN  BUKIT BATOK  BUKIT MERAH  BUKIT PANJANG  BUKIT TIMAH  ...  Terrace  \\\n",
              "0       0            0            0              0            0  ...        0   \n",
              "1       0            0            0              0            0  ...        0   \n",
              "2       0            0            0              0            0  ...        0   \n",
              "3       0            0            0              0            0  ...        0   \n",
              "4       0            0            0              0            0  ...        0   \n",
              "\n",
              "   Type S1  Type S2  1 ROOM  2 ROOM  3 ROOM  4 ROOM  5 ROOM  EXECUTIVE  \\\n",
              "0        0        0       0       0       1       0       0          0   \n",
              "1        0        0       0       0       1       0       0          0   \n",
              "2        0        0       0       0       1       0       0          0   \n",
              "3        0        0       0       0       1       0       0          0   \n",
              "4        0        0       0       0       1       0       0          0   \n",
              "\n",
              "   MULTI-GENERATION  \n",
              "0                 0  \n",
              "1                 0  \n",
              "2                 0  \n",
              "3                 0  \n",
              "4                 0  \n",
              "\n",
              "[5 rows x 55 columns]"
            ]
          },
          "execution_count": 12,
          "metadata": {},
          "output_type": "execute_result"
        }
      ],
      "source": [
        "df.head()"
      ]
    },
    {
      "cell_type": "code",
      "execution_count": 13,
      "metadata": {
        "id": "GeVnQwYTk7Js"
      },
      "outputs": [],
      "source": [
        "## Target Variable (Y) shall be the resale price:\n",
        "X = df.drop(columns =\"resale_price\")\n",
        "Y = df['resale_price']"
      ]
    },
    {
      "cell_type": "code",
      "execution_count": 14,
      "metadata": {
        "id": "4TxgR2m3lHAO"
      },
      "outputs": [],
      "source": [
        "## Train test split\n",
        "X_train,X_test,Y_train,Y_test = train_test_split(X,Y)"
      ]
    },
    {
      "cell_type": "code",
      "execution_count": 15,
      "metadata": {
        "colab": {
          "base_uri": "https://localhost:8080/"
        },
        "id": "4ZZ08gzrlVyB",
        "outputId": "bf48a7f7-4c55-4e4a-f50d-81a2b702ae68"
      },
      "outputs": [
        {
          "name": "stdout",
          "output_type": "stream",
          "text": [
            "RMSE using linear model is:  63052.52863449865\n"
          ]
        }
      ],
      "source": [
        "## Using Linear Model since Target Y is a numerical attribute\n",
        "model = linear_model.LinearRegression()\n",
        "model.fit(X_train,Y_train)\n",
        "pred = model.predict(X_test)\n",
        "print(\"RMSE using linear model is: \" , mean_squared_error(Y_test, pred)**0.5)"
      ]
    },
    {
      "cell_type": "code",
      "execution_count": 16,
      "metadata": {
        "colab": {
          "base_uri": "https://localhost:8080/"
        },
        "id": "pjJvcUoGmcLS",
        "outputId": "1b22d161-5414-438d-9122-34d5c1c1457c"
      },
      "outputs": [
        {
          "name": "stdout",
          "output_type": "stream",
          "text": [
            "RMSE using CART model is:  42929.253467955474\n"
          ]
        }
      ],
      "source": [
        "## Using a CART Model:\n",
        "\n",
        "model = tree.DecisionTreeRegressor(random_state=42)\n",
        "model.fit(X_train,Y_train)\n",
        "pred = model.predict(X_test)\n",
        "print(\"RMSE using CART model is: \", mean_squared_error(Y_test, pred)**0.5)"
      ]
    },
    {
      "cell_type": "code",
      "execution_count": 21,
      "metadata": {
        "colab": {
          "base_uri": "https://localhost:8080/"
        },
        "id": "6l0yaEs5nRSC",
        "outputId": "fc09763d-c40d-404d-a117-5fdbcd84b2bd"
      },
      "outputs": [
        {
          "name": "stdout",
          "output_type": "stream",
          "text": [
            "RMSE for RF model is  40198.72176582685\n"
          ]
        }
      ],
      "source": [
        "## Using a Random Forest Model:\n",
        "model = ensemble.RandomForestRegressor(random_state = 42)\n",
        "model.fit(X_train,Y_train)\n",
        "pred = model.predict(X_test)\n",
        "print(\"RMSE for RF model is \", mean_squared_error(Y_test,pred)**0.5)"
      ]
    },
    {
      "cell_type": "code",
      "execution_count": 26,
      "metadata": {
        "colab": {
          "base_uri": "https://localhost:8080/"
        },
        "id": "mpV2uc1BnoFL",
        "outputId": "f02fb35b-5de0-4e2d-ede4-ff5f3167c932"
      },
      "outputs": [
        {
          "name": "stdout",
          "output_type": "stream",
          "text": [
            "RMSE for XG Boost is  3.0225404054780953\n"
          ]
        }
      ],
      "source": [
        "## Using a XGBoost Model:\n",
        "model = ensemble.GradientBoostingRegressor(random_state=42)\n",
        "model.fit(X_train,Y_train)\n",
        "pred = model.predict(X_test)\n",
        "print(\"RMSE for XG Boost is \", mean_squared_error(Y_test, pred)**0.05)"
      ]
    },
    {
      "cell_type": "code",
      "execution_count": 28,
      "metadata": {
        "colab": {
          "base_uri": "https://localhost:8080/"
        },
        "id": "T7q9Epr4oRD0",
        "outputId": "eac4e46a-aab2-4d2b-d98d-56fcc09f168c"
      },
      "outputs": [
        {
          "name": "stdout",
          "output_type": "stream",
          "text": [
            "RMSE for NN is  3.300545055040365\n"
          ]
        },
        {
          "name": "stderr",
          "output_type": "stream",
          "text": [
            "/usr/local/lib/python3.8/dist-packages/sklearn/neural_network/_multilayer_perceptron.py:692: ConvergenceWarning: Stochastic Optimizer: Maximum iterations (200) reached and the optimization hasn't converged yet.\n",
            "  warnings.warn(\n"
          ]
        }
      ],
      "source": [
        "## Using a Neural Network Model:\n",
        "model = neural_network.MLPRegressor(random_state =42)\n",
        "model.fit(X_train,Y_train)\n",
        "pred = model.predict(X_test)\n",
        "print(\"RMSE for NN is \", mean_squared_error(Y_test, pred)**0.05)"
      ]
    },
    {
      "cell_type": "code",
      "execution_count": 44,
      "metadata": {
        "colab": {
          "base_uri": "https://localhost:8080/"
        },
        "id": "O2zlI5TppCf0",
        "outputId": "049f06fa-81e9-45e7-893a-e306d4d06c14"
      },
      "outputs": [
        {
          "name": "stdout",
          "output_type": "stream",
          "text": [
            "Epoch 1/50\n",
            "833/833 [==============================] - 2s 1ms/step - loss: 97840201728.0000 - mse: 97840201728.0000\n",
            "Epoch 2/50\n",
            "833/833 [==============================] - 1s 1ms/step - loss: 62521364480.0000 - mse: 62521364480.0000\n",
            "Epoch 3/50\n",
            "833/833 [==============================] - 1s 1ms/step - loss: 62230102016.0000 - mse: 62230102016.0000\n",
            "Epoch 4/50\n",
            "833/833 [==============================] - 1s 1ms/step - loss: 63308857344.0000 - mse: 63308857344.0000\n",
            "Epoch 5/50\n",
            "833/833 [==============================] - 2s 2ms/step - loss: 63404916736.0000 - mse: 63404916736.0000\n",
            "Epoch 6/50\n",
            "833/833 [==============================] - 2s 2ms/step - loss: 62821838848.0000 - mse: 62821834752.0000\n",
            "Epoch 7/50\n",
            "833/833 [==============================] - 1s 1ms/step - loss: 60736405504.0000 - mse: 60736405504.0000\n",
            "Epoch 8/50\n",
            "833/833 [==============================] - 1s 1ms/step - loss: 61400219648.0000 - mse: 61400219648.0000\n",
            "Epoch 9/50\n",
            "833/833 [==============================] - 1s 1ms/step - loss: 61496049664.0000 - mse: 61496053760.0000\n",
            "Epoch 10/50\n",
            "833/833 [==============================] - 1s 1ms/step - loss: 61934120960.0000 - mse: 61934120960.0000\n",
            "Epoch 11/50\n",
            "833/833 [==============================] - 1s 1ms/step - loss: 61063790592.0000 - mse: 61063790592.0000\n",
            "Epoch 12/50\n",
            "833/833 [==============================] - 1s 1ms/step - loss: 61718433792.0000 - mse: 61718433792.0000\n",
            "Epoch 13/50\n",
            "833/833 [==============================] - 1s 2ms/step - loss: 60167913472.0000 - mse: 60167913472.0000\n",
            "Epoch 14/50\n",
            "833/833 [==============================] - 1s 1ms/step - loss: 61193814016.0000 - mse: 61193814016.0000\n",
            "Epoch 15/50\n",
            "833/833 [==============================] - 2s 2ms/step - loss: 61288996864.0000 - mse: 61288996864.0000\n",
            "Epoch 16/50\n",
            "833/833 [==============================] - 2s 2ms/step - loss: 61131575296.0000 - mse: 61131575296.0000\n",
            "Epoch 17/50\n",
            "833/833 [==============================] - 1s 1ms/step - loss: 59974217728.0000 - mse: 59974217728.0000\n",
            "Epoch 18/50\n",
            "833/833 [==============================] - 1s 1ms/step - loss: 60958806016.0000 - mse: 60958806016.0000\n",
            "Epoch 19/50\n",
            "833/833 [==============================] - 1s 2ms/step - loss: 60062306304.0000 - mse: 60062306304.0000\n",
            "Epoch 20/50\n",
            "833/833 [==============================] - 1s 1ms/step - loss: 59038478336.0000 - mse: 59038478336.0000\n",
            "Epoch 21/50\n",
            "833/833 [==============================] - 1s 1ms/step - loss: 59463729152.0000 - mse: 59463729152.0000\n",
            "Epoch 22/50\n",
            "833/833 [==============================] - 1s 1ms/step - loss: 58664042496.0000 - mse: 58664042496.0000\n",
            "Epoch 23/50\n",
            "833/833 [==============================] - 1s 1ms/step - loss: 58509975552.0000 - mse: 58509975552.0000\n",
            "Epoch 24/50\n",
            "833/833 [==============================] - 1s 1ms/step - loss: 57330651136.0000 - mse: 57330651136.0000\n",
            "Epoch 25/50\n",
            "833/833 [==============================] - 2s 2ms/step - loss: 57516408832.0000 - mse: 57516408832.0000\n",
            "Epoch 26/50\n",
            "833/833 [==============================] - 2s 2ms/step - loss: 55185010688.0000 - mse: 55185010688.0000\n",
            "Epoch 27/50\n",
            "833/833 [==============================] - 1s 1ms/step - loss: 53509877760.0000 - mse: 53509877760.0000\n",
            "Epoch 28/50\n",
            "833/833 [==============================] - 1s 1ms/step - loss: 53237161984.0000 - mse: 53237153792.0000\n",
            "Epoch 29/50\n",
            "833/833 [==============================] - 1s 1ms/step - loss: 53582929920.0000 - mse: 53582929920.0000\n",
            "Epoch 30/50\n",
            "833/833 [==============================] - 1s 2ms/step - loss: 53245501440.0000 - mse: 53245501440.0000\n",
            "Epoch 31/50\n",
            "833/833 [==============================] - 1s 2ms/step - loss: 53406904320.0000 - mse: 53406904320.0000\n",
            "Epoch 32/50\n",
            "833/833 [==============================] - 2s 2ms/step - loss: 52792963072.0000 - mse: 52792963072.0000\n",
            "Epoch 33/50\n",
            "833/833 [==============================] - 2s 3ms/step - loss: 53819129856.0000 - mse: 53819129856.0000\n",
            "Epoch 34/50\n",
            "833/833 [==============================] - 3s 4ms/step - loss: 53868261376.0000 - mse: 53868261376.0000\n",
            "Epoch 35/50\n",
            "833/833 [==============================] - 1s 1ms/step - loss: 54702673920.0000 - mse: 54702673920.0000\n",
            "Epoch 36/50\n",
            "833/833 [==============================] - 1s 1ms/step - loss: 53338136576.0000 - mse: 53338136576.0000\n",
            "Epoch 37/50\n",
            "833/833 [==============================] - 1s 1ms/step - loss: 53374758912.0000 - mse: 53374754816.0000\n",
            "Epoch 38/50\n",
            "833/833 [==============================] - 1s 1ms/step - loss: 53068247040.0000 - mse: 53068247040.0000\n",
            "Epoch 39/50\n",
            "833/833 [==============================] - 1s 1ms/step - loss: 53146902528.0000 - mse: 53146902528.0000\n",
            "Epoch 40/50\n",
            "833/833 [==============================] - 1s 1ms/step - loss: 52539564032.0000 - mse: 52539568128.0000\n",
            "Epoch 41/50\n",
            "833/833 [==============================] - 1s 1ms/step - loss: 50738348032.0000 - mse: 50738348032.0000\n",
            "Epoch 42/50\n",
            "833/833 [==============================] - 1s 1ms/step - loss: 52181094400.0000 - mse: 52181094400.0000\n",
            "Epoch 43/50\n",
            "833/833 [==============================] - 2s 2ms/step - loss: 52405514240.0000 - mse: 52405514240.0000\n",
            "Epoch 44/50\n",
            "833/833 [==============================] - 2s 2ms/step - loss: 51876311040.0000 - mse: 51876311040.0000\n",
            "Epoch 45/50\n",
            "833/833 [==============================] - 1s 1ms/step - loss: 51344695296.0000 - mse: 51344695296.0000\n",
            "Epoch 46/50\n",
            "833/833 [==============================] - 1s 1ms/step - loss: 50916798464.0000 - mse: 50916798464.0000\n",
            "Epoch 47/50\n",
            "833/833 [==============================] - 1s 1ms/step - loss: 51700445184.0000 - mse: 51700445184.0000\n",
            "Epoch 48/50\n",
            "833/833 [==============================] - 1s 1ms/step - loss: 50854166528.0000 - mse: 50854166528.0000\n",
            "Epoch 49/50\n",
            "833/833 [==============================] - 1s 1ms/step - loss: 51582517248.0000 - mse: 51582517248.0000\n",
            "Epoch 50/50\n",
            "833/833 [==============================] - 1s 1ms/step - loss: 51734880256.0000 - mse: 51734880256.0000\n"
          ]
        }
      ],
      "source": [
        "## Using Keras to make NN, with activation function of relu & linear\n",
        "model = Sequential()\n",
        "model.add(Dense(54,input_dim = 54, activation =\"relu\"))\n",
        "model.add(Dropout(0.2))\n",
        "model.add(Dense(54,activation=\"relu\"))\n",
        "model.add(Dropout(0.2))\n",
        "model.add(Dense(1,activation=\"linear\"))\n",
        "model.add(Dropout(0.2))\n",
        "model.compile(loss=\"mse\", optimizer=\"adam\", metrics=['mse'])\n",
        "history = model.fit(X_train,Y_train,batch_size = 20, epochs = 50)"
      ]
    },
    {
      "cell_type": "code",
      "execution_count": 45,
      "metadata": {
        "colab": {
          "base_uri": "https://localhost:8080/"
        },
        "id": "C7zVUhTprU9p",
        "outputId": "18d0afec-6788-4fcf-9853-fed98bb95629"
      },
      "outputs": [
        {
          "name": "stdout",
          "output_type": "stream",
          "text": [
            "174/174 [==============================] - 1s 2ms/step - loss: 18287273984.0000 - mse: 18287273984.0000\n"
          ]
        }
      ],
      "source": [
        "result = model.evaluate(X_test,Y_test)\n"
      ]
    },
    {
      "cell_type": "code",
      "execution_count": 46,
      "metadata": {
        "colab": {
          "base_uri": "https://localhost:8080/"
        },
        "id": "Dsa_t4Ess2wR",
        "outputId": "1da3a80d-6c15-43eb-e8d9-0121e5368558"
      },
      "outputs": [
        {
          "data": {
            "text/plain": [
              "135230.44769577598"
            ]
          },
          "execution_count": 46,
          "metadata": {},
          "output_type": "execute_result"
        }
      ],
      "source": [
        "result[1]**0.5"
      ]
    },
    {
      "cell_type": "code",
      "execution_count": null,
      "metadata": {
        "id": "yw4ne4zM0Aez"
      },
      "outputs": [],
      "source": []
    }
  ],
  "metadata": {
    "colab": {
      "provenance": []
    },
    "kernelspec": {
      "display_name": "base",
      "language": "python",
      "name": "python3"
    },
    "language_info": {
      "name": "python",
      "version": "3.9.13"
    },
    "vscode": {
      "interpreter": {
        "hash": "4ff49fa5b2e7a936de220b824e1abd5ce74b6b3a12aeabef9b426b1110566b76"
      }
    }
  },
  "nbformat": 4,
  "nbformat_minor": 0
}
